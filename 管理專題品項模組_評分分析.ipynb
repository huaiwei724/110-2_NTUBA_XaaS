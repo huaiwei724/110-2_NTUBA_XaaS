{
  "nbformat": 4,
  "nbformat_minor": 0,
  "metadata": {
    "colab": {
      "name": "管理專題品項模組-評分分析.ipynb",
      "provenance": [],
      "collapsed_sections": []
    },
    "kernelspec": {
      "name": "python3",
      "display_name": "Python 3"
    },
    "language_info": {
      "name": "python"
    }
  },
  "cells": [
    {
      "cell_type": "code",
      "source": [
        "!gdown --id 13m7JpglX7AL_hggkICfbbct-kUavyPbx"
      ],
      "metadata": {
        "colab": {
          "base_uri": "https://localhost:8080/"
        },
        "id": "bEMqLmgOYC0G",
        "outputId": "d4ccfe92-3bb0-4861-db9e-f4672c75c027"
      },
      "execution_count": null,
      "outputs": [
        {
          "output_type": "stream",
          "name": "stdout",
          "text": [
            "/usr/local/lib/python3.7/dist-packages/gdown/cli.py:131: FutureWarning: Option `--id` was deprecated in version 4.3.1 and will be removed in 5.0. You don't need to pass it anymore to use a file ID.\n",
            "  category=FutureWarning,\n",
            "Downloading...\n",
            "From: https://drive.google.com/uc?id=13m7JpglX7AL_hggkICfbbct-kUavyPbx\n",
            "To: /content/SMIS電商與品牌近一年資料.zip\n",
            "100% 61.1M/61.1M [00:00<00:00, 97.6MB/s]\n"
          ]
        }
      ]
    },
    {
      "cell_type": "code",
      "execution_count": null,
      "metadata": {
        "colab": {
          "base_uri": "https://localhost:8080/"
        },
        "id": "JkvkfKXLX-nG",
        "outputId": "1afcf841-87bb-41d4-c870-af48001a8c8d"
      },
      "outputs": [
        {
          "output_type": "stream",
          "name": "stdout",
          "text": [
            "Archive:  SMIS電商與品牌近一年資料.zip\n",
            "  inflating: Products.csv            \n",
            "  inflating: E_Products.csv          \n"
          ]
        }
      ],
      "source": [
        "!unzip SMIS電商與品牌近一年資料.zip"
      ]
    },
    {
      "cell_type": "code",
      "source": [
        "# Settings\n",
        "\n",
        "sport = 'Training & Gym'\n",
        "clothing = ['Leggings & Tights']  # ['Sports Bra', 'Leggings & Tights','']\n",
        "time_range = ['2021/2/28','2022/5/9']\n",
        "feature_cols = ['Feature','Material']  # Color, Gender\n",
        "strList_cols = ['Color','Feature','Material']  # 資料中是以list儲存的columns "
      ],
      "metadata": {
        "id": "vwE3nvuJhqP9"
      },
      "execution_count": null,
      "outputs": []
    },
    {
      "cell_type": "code",
      "source": [
        "# funtioncs\n",
        "import json\n",
        "\n",
        "def check_clothing(clothing_list):\n",
        "    \n",
        "    clothing_list = list(map(str.strip, clothing_list.strip('][').replace(\"'\", '').split(','))) \n",
        "    # 將讀近來文字的list轉換成list '[a,b,c]' -> [a,b,c]\n",
        "\n",
        "    for i in clothing_list:\n",
        "        if i in clothing:\n",
        "            return True\n",
        "    return False\n",
        "    "
      ],
      "metadata": {
        "id": "wRz5ZdC8ER0I"
      },
      "execution_count": null,
      "outputs": []
    },
    {
      "cell_type": "code",
      "source": [
        "# Read Data\n",
        "import pandas as pd\n",
        "import numpy as np\n",
        "\n",
        "E_Products = pd.read_csv('E_Products.csv',low_memory = False)\n",
        "E_Products['CreateDate'] = pd.to_datetime(E_Products['CreateDate'])\n",
        "\n",
        "Products = pd.read_csv('Products.csv',low_memory = False)\n",
        "Products['CreateDate'] = pd.to_datetime(Products['CreateDate'])"
      ],
      "metadata": {
        "id": "tTulSSt4fp4S"
      },
      "execution_count": null,
      "outputs": []
    },
    {
      "cell_type": "code",
      "source": [
        "E_Products['Sport'] = E_Products['Sport'].fillna('others')\n",
        "E_Products = E_Products[E_Products['Sport'].apply(lambda x: True if sport in x else False)]\n",
        "\n",
        "Products['Sport'] = Products['Sport'].fillna('others')\n",
        "Products = Products[Products['Sport'].apply(lambda x: True if sport in x else False)]"
      ],
      "metadata": {
        "id": "rki6WZzuuMOs"
      },
      "execution_count": null,
      "outputs": []
    },
    {
      "cell_type": "code",
      "source": [
        "E_Products['Sport']"
      ],
      "metadata": {
        "id": "PzcaSrDnu0-2",
        "colab": {
          "base_uri": "https://localhost:8080/"
        },
        "outputId": "fb094faf-8d86-4026-a487-da4f3c728fdb"
      },
      "execution_count": null,
      "outputs": [
        {
          "output_type": "execute_result",
          "data": {
            "text/plain": [
              "5                                       ['Training & Gym']\n",
              "11                                      ['Training & Gym']\n",
              "26                                      ['Training & Gym']\n",
              "40                                      ['Training & Gym']\n",
              "43                           ['Running', 'Training & Gym']\n",
              "                               ...                        \n",
              "80822    ['Climbing', 'Running', 'Training & Gym', 'Yoga']\n",
              "80828    ['Running', 'Training & Gym', 'Lifestyle', 'Yo...\n",
              "80834    ['Tennis', 'Hiking & Trail', 'Walking', 'Golf'...\n",
              "80841    ['Running', 'Training & Gym', 'Lifestyle', 'Yo...\n",
              "80844    ['Hiking & Trail', 'Training & Gym', 'Running'...\n",
              "Name: Sport, Length: 13874, dtype: object"
            ]
          },
          "metadata": {},
          "execution_count": 7
        }
      ]
    },
    {
      "cell_type": "code",
      "source": [
        "E_Products.info()"
      ],
      "metadata": {
        "colab": {
          "base_uri": "https://localhost:8080/"
        },
        "id": "BmAIac7Csdv5",
        "outputId": "fd412261-5ba6-4c11-8c62-3d103c4a6f9e"
      },
      "execution_count": null,
      "outputs": [
        {
          "output_type": "stream",
          "name": "stdout",
          "text": [
            "<class 'pandas.core.frame.DataFrame'>\n",
            "Int64Index: 13874 entries, 5 to 80844\n",
            "Data columns (total 35 columns):\n",
            " #   Column         Non-Null Count  Dtype         \n",
            "---  ------         --------------  -----         \n",
            " 0   Unnamed: 0     13874 non-null  int64         \n",
            " 1   _id            13874 non-null  object        \n",
            " 2   Store          13874 non-null  object        \n",
            " 3   Url            13874 non-null  object        \n",
            " 4   Gender         13517 non-null  object        \n",
            " 5   ModifiedDate   13874 non-null  object        \n",
            " 6   ReviewNumber   12617 non-null  float64       \n",
            " 7   AverageRating  12537 non-null  float64       \n",
            " 8   Price          13343 non-null  float64       \n",
            " 9   RatingTrack    11316 non-null  object        \n",
            " 10  PriceTrack     11316 non-null  object        \n",
            " 11  CreateDate     13874 non-null  datetime64[ns]\n",
            " 12  OldPrice       6505 non-null   float64       \n",
            " 13  Brand          13838 non-null  object        \n",
            " 14  Bullets        13874 non-null  object        \n",
            " 15  Color          13138 non-null  object        \n",
            " 16  ImageUrl       13873 non-null  object        \n",
            " 17  Name           13874 non-null  object        \n",
            " 18  StyleNumber    586 non-null    object        \n",
            " 19  Clothing       13727 non-null  object        \n",
            " 20  Feature        13874 non-null  object        \n",
            " 21  Material       3401 non-null   object        \n",
            " 22  Sport          13874 non-null  object        \n",
            " 23  Description    13859 non-null  object        \n",
            " 24  Fulltext       13516 non-null  object        \n",
            " 25  PriceMax       3119 non-null   float64       \n",
            " 26  PriceMin       3119 non-null   float64       \n",
            " 27  PriceOriginal  50 non-null     float64       \n",
            " 28  ProductID      378 non-null    object        \n",
            " 29  ClothingType   13341 non-null  object        \n",
            " 30  SportType      13341 non-null  object        \n",
            " 31  Features       13341 non-null  object        \n",
            " 32  OurImage       12892 non-null  object        \n",
            " 33  WebID          357 non-null    object        \n",
            " 34  ASIN           12963 non-null  object        \n",
            "dtypes: datetime64[ns](1), float64(7), int64(1), object(26)\n",
            "memory usage: 3.8+ MB\n"
          ]
        }
      ]
    },
    {
      "cell_type": "code",
      "source": [
        "Products.info()"
      ],
      "metadata": {
        "colab": {
          "base_uri": "https://localhost:8080/"
        },
        "id": "IqprBKLWsgez",
        "outputId": "168596f0-e5c9-4c24-a8df-b1bd1e08adb2"
      },
      "execution_count": null,
      "outputs": [
        {
          "output_type": "stream",
          "name": "stdout",
          "text": [
            "<class 'pandas.core.frame.DataFrame'>\n",
            "Int64Index: 14515 entries, 10 to 106323\n",
            "Data columns (total 33 columns):\n",
            " #   Column               Non-Null Count  Dtype         \n",
            "---  ------               --------------  -----         \n",
            " 0   Unnamed: 0           14515 non-null  int64         \n",
            " 1   _id                  14515 non-null  object        \n",
            " 2   Url                  14515 non-null  object        \n",
            " 3   Gender               14515 non-null  object        \n",
            " 4   Brand                14515 non-null  object        \n",
            " 5   StyleNumber          14515 non-null  object        \n",
            " 6   ProductID            4819 non-null   object        \n",
            " 7   AverageRating        12528 non-null  float64       \n",
            " 8   ReviewNumber         12890 non-null  float64       \n",
            " 9   Name                 14515 non-null  object        \n",
            " 10  Color                3720 non-null   object        \n",
            " 11  Bullets              14515 non-null  object        \n",
            " 12  ImageUrl             14515 non-null  object        \n",
            " 13  Price                14513 non-null  float64       \n",
            " 14  Sport                14515 non-null  object        \n",
            " 15  Clothing             14515 non-null  object        \n",
            " 16  CreateDate           14515 non-null  datetime64[ns]\n",
            " 17  ModifiedDate         14515 non-null  object        \n",
            " 18  Description          14515 non-null  object        \n",
            " 19  Fulltext             14515 non-null  object        \n",
            " 20  Feature              14515 non-null  object        \n",
            " 21  Material             14063 non-null  object        \n",
            " 22  OurImage             12613 non-null  object        \n",
            " 23  ColorLock            8954 non-null   object        \n",
            " 24  AllColorRatio        8942 non-null   object        \n",
            " 25  ColorCode            8952 non-null   object        \n",
            " 26  ColorUpdatedCounter  8942 non-null   float64       \n",
            " 27  ColorUpdatedDate     8942 non-null   object        \n",
            " 28  ColorVersion         8942 non-null   float64       \n",
            " 29  NewColor             8952 non-null   object        \n",
            " 30  Pattern              1676 non-null   object        \n",
            " 31  ColorObj             10384 non-null  object        \n",
            " 32  NewArrival           821 non-null    object        \n",
            "dtypes: datetime64[ns](1), float64(5), int64(1), object(26)\n",
            "memory usage: 3.8+ MB\n"
          ]
        }
      ]
    },
    {
      "cell_type": "code",
      "source": [
        "# Selecting data\n",
        "\n",
        "df_P = Products.loc[(Products['CreateDate'] >= pd.to_datetime(time_range[0])) & (Products['CreateDate'] <= pd.to_datetime(time_range[1]))]\n",
        "df_E = E_Products.loc[(E_Products['CreateDate'] >= pd.to_datetime(time_range[0])) & (E_Products['CreateDate'] <= pd.to_datetime(time_range[1]))]\n",
        "df_P['Clothing'] = df_P['Clothing'].fillna('[\\'nan\\']')\n",
        "df_E['Clothing'] = df_E['Clothing'].fillna('[\\'nan\\']')"
      ],
      "metadata": {
        "id": "zY16xH0F8Gq6"
      },
      "execution_count": null,
      "outputs": []
    },
    {
      "cell_type": "code",
      "source": [
        "import ast \n",
        "ls = [] \n",
        "s = set()\n",
        "for i in df_P['Clothing'].unique():\n",
        "    s = s|set(ast.literal_eval(i))\n",
        "clothing_dic = dict(zip(list(s), len(list(s))*[0]))"
      ],
      "metadata": {
        "id": "2L-tWE04xszz"
      },
      "execution_count": null,
      "outputs": []
    },
    {
      "cell_type": "code",
      "source": [
        "for i in df_P['Clothing']:\n",
        "    for j in ast.literal_eval(i):\n",
        "        clothing_dic[j] += 1 \n",
        "sorted(clothing_dic.items(), key=lambda x: x[1])"
      ],
      "metadata": {
        "colab": {
          "base_uri": "https://localhost:8080/"
        },
        "id": "pTN5nQ792YQf",
        "outputId": "207ff120-ddd1-43f7-bb71-07c8ca4b6f53"
      },
      "execution_count": null,
      "outputs": [
        {
          "output_type": "execute_result",
          "data": {
            "text/plain": [
              "[('Hardware', 1),\n",
              " ('Balls', 1),\n",
              " ('Softshells', 1),\n",
              " ('Surfing', 2),\n",
              " (\"What's New\", 2),\n",
              " ('Athletic & Sneakers', 2),\n",
              " ('Bags', 3),\n",
              " ('Selfcare', 4),\n",
              " ('Water Bottles', 4),\n",
              " ('We Made Too Much', 4),\n",
              " ('Headphones', 4),\n",
              " ('clothing', 5),\n",
              " ('Accessories', 6),\n",
              " ('women', 7),\n",
              " ('men', 7),\n",
              " ('Fleece', 11),\n",
              " ('Insulated & Down', 14),\n",
              " ('shoes', 15),\n",
              " ('Vest', 28),\n",
              " ('Windwear', 49),\n",
              " ('Compression wear', 50),\n",
              " ('Swimwear', 71),\n",
              " ('Other Accessories', 86),\n",
              " ('Polo', 89),\n",
              " ('Skirt & Dresses', 105),\n",
              " ('Headband & Sweatband', 118),\n",
              " ('Hats & Scarves', 232),\n",
              " ('Jackets & Vests', 459),\n",
              " ('Tops', 518),\n",
              " ('Sock', 622),\n",
              " ('Bottoms', 720),\n",
              " ('Long Sleeve', 733),\n",
              " ('Pants', 1201),\n",
              " ('Tank', 1448),\n",
              " ('Hoodie & Sweatshirt', 1471),\n",
              " ('Leggings & Tights', 1671),\n",
              " ('Sports Bra', 1707),\n",
              " ('Shorts', 1968),\n",
              " ('Short Sleeve', 2067)]"
            ]
          },
          "metadata": {},
          "execution_count": 12
        }
      ]
    },
    {
      "cell_type": "code",
      "source": [
        "df_P = df_P.loc[df_P['Clothing'].apply(lambda x: check_clothing(x))]\n",
        "df_E = df_E.loc[df_E['Clothing'].apply(lambda x: check_clothing(x))]"
      ],
      "metadata": {
        "id": "ypVlYX1Oybh2"
      },
      "execution_count": null,
      "outputs": []
    },
    {
      "cell_type": "markdown",
      "source": [
        "# 電商評分分析"
      ],
      "metadata": {
        "id": "bkJXAWf52yac"
      }
    },
    {
      "cell_type": "code",
      "source": [
        "df_E['ReviewNumber'].plot.hist(bins=20, alpha=0.5)"
      ],
      "metadata": {
        "colab": {
          "base_uri": "https://localhost:8080/",
          "height": 283
        },
        "id": "1ZXDhBjZuiWP",
        "outputId": "d0074f9c-e2e0-44ba-a0d3-c5010425e092"
      },
      "execution_count": null,
      "outputs": [
        {
          "output_type": "execute_result",
          "data": {
            "text/plain": [
              "<matplotlib.axes._subplots.AxesSubplot at 0x7f2c5bdde9d0>"
            ]
          },
          "metadata": {},
          "execution_count": 14
        },
        {
          "output_type": "display_data",
          "data": {
            "text/plain": [
              "<Figure size 432x288 with 1 Axes>"
            ],
            "image/png": "[encoded data removed]"
          },
          "metadata": {
            "needs_background": "light"
          }
        }
      ]
    },
    {
      "cell_type": "code",
      "source": [
        "df_E['ReviewNumber'][df_E['ReviewNumber']<100].plot.hist(bins=50, alpha=0.5)"
      ],
      "metadata": {
        "colab": {
          "base_uri": "https://localhost:8080/",
          "height": 283
        },
        "id": "xFfjEpnVu62S",
        "outputId": "62740b20-9c8f-4453-dbd0-c4c596a8249c"
      },
      "execution_count": null,
      "outputs": [
        {
          "output_type": "execute_result",
          "data": {
            "text/plain": [
              "<matplotlib.axes._subplots.AxesSubplot at 0x7f2c5bdde750>"
            ]
          },
          "metadata": {},
          "execution_count": 15
        },
        {
          "output_type": "display_data",
          "data": {
            "text/plain": [
              "<Figure size 432x288 with 1 Axes>"
            ],
            "image/png": "[encoded data removed]"
          },
          "metadata": {
            "needs_background": "light"
          }
        }
      ]
    },
    {
      "cell_type": "code",
      "source": [
        "df_E['AverageRating'].plot.hist(bins=50, alpha=0.5)"
      ],
      "metadata": {
        "colab": {
          "base_uri": "https://localhost:8080/",
          "height": 283
        },
        "id": "EItkZU48uUFT",
        "outputId": "aad073e2-4714-4ee4-a051-11a0d5419e61"
      },
      "execution_count": null,
      "outputs": [
        {
          "output_type": "execute_result",
          "data": {
            "text/plain": [
              "<matplotlib.axes._subplots.AxesSubplot at 0x7f2c5fb8ec10>"
            ]
          },
          "metadata": {},
          "execution_count": 16
        },
        {
          "output_type": "display_data",
          "data": {
            "text/plain": [
              "<Figure size 432x288 with 1 Axes>"
            ],
            "image/png": "[encoded data removed]"
          },
          "metadata": {
            "needs_background": "light"
          }
        }
      ]
    },
    {
      "cell_type": "code",
      "source": [
        "df_P['AverageRating'].plot.hist(bins=50, alpha=0.5)"
      ],
      "metadata": {
        "colab": {
          "base_uri": "https://localhost:8080/",
          "height": 283
        },
        "id": "FOGy-vkGyKur",
        "outputId": "b1c022af-97a1-4f98-e6ab-c267a6421a78"
      },
      "execution_count": null,
      "outputs": [
        {
          "output_type": "execute_result",
          "data": {
            "text/plain": [
              "<matplotlib.axes._subplots.AxesSubplot at 0x7f2c5fb87710>"
            ]
          },
          "metadata": {},
          "execution_count": 17
        },
        {
          "output_type": "display_data",
          "data": {
            "text/plain": [
              "<Figure size 432x288 with 1 Axes>"
            ],
            "image/png": "[encoded data removed]"
          },
          "metadata": {
            "needs_background": "light"
          }
        }
      ]
    },
    {
      "cell_type": "code",
      "source": [
        "from sklearn.linear_model import LinearRegression\n",
        "\n",
        "data = df_E.dropna(subset = ['AverageRating'])\n",
        "data = data[data['ReviewNumber']>20]\n",
        "data_x = data[feature_cols]\n",
        "data_x = data_x.fillna('[\\'nan\\']')\n",
        "data_y = data['AverageRating']\n",
        "import ast \n",
        "feature_strList_cols = []\n",
        "other_feature_cols = []\n",
        "for col in feature_cols:\n",
        "    if col in strList_cols:\n",
        "        feature_strList_cols.append(col)\n",
        "        data_x[col] = data_x[col].apply(ast.literal_eval)\n",
        "    else:\n",
        "        other_feature_cols.append(col)\n",
        "# Preprocess 3\n",
        "from sklearn.preprocessing import MultiLabelBinarizer\n",
        "mlb_list = []\n",
        "df_list = [data_x[other_feature_cols]]\n",
        "for col in feature_strList_cols:\n",
        "    mlb = MultiLabelBinarizer()\n",
        "    df = pd.DataFrame(mlb.fit_transform(data_x[col]),columns=mlb.classes_)\n",
        "    df_list.append(df)\n",
        "data_x = pd.concat(df_list, axis=1).dropna()\n",
        "# reg = LinearRegression().fit(data_x, data_y)"
      ],
      "metadata": {
        "id": "HPZCVExJyfcb"
      },
      "execution_count": null,
      "outputs": []
    },
    {
      "cell_type": "code",
      "source": [
        "data_x['Silk'].sum()"
      ],
      "metadata": {
        "colab": {
          "base_uri": "https://localhost:8080/"
        },
        "id": "vwu8QN8-t96X",
        "outputId": "cc3aba67-ac65-48e4-b87d-f5cd2c364d01"
      },
      "execution_count": null,
      "outputs": [
        {
          "output_type": "execute_result",
          "data": {
            "text/plain": [
              "4.0"
            ]
          },
          "metadata": {},
          "execution_count": 22
        }
      ]
    },
    {
      "cell_type": "code",
      "source": [
        "data_x['100% Cotton'].sum()"
      ],
      "metadata": {
        "colab": {
          "base_uri": "https://localhost:8080/"
        },
        "id": "R4VIWIEIuEAk",
        "outputId": "28ed1034-ac2e-4945-caf2-41f9d5a9ce0a"
      },
      "execution_count": null,
      "outputs": [
        {
          "output_type": "execute_result",
          "data": {
            "text/plain": [
              "1.0"
            ]
          },
          "metadata": {},
          "execution_count": 23
        }
      ]
    },
    {
      "cell_type": "code",
      "source": [
        "for col in data_x.columns:\n",
        "    if data_x[col].sum() < 10:\n",
        "        data_x = data_x.drop(col, axis=1)\n",
        "data_x = data_x.drop('all/any Spandex', axis=1)"
      ],
      "metadata": {
        "id": "50IsGlv4qeVW"
      },
      "execution_count": null,
      "outputs": []
    },
    {
      "cell_type": "code",
      "source": [
        "data_x"
      ],
      "metadata": {
        "colab": {
          "base_uri": "https://localhost:8080/",
          "height": 485
        },
        "id": "uxu-6OqcvtmM",
        "outputId": "0d14c619-b083-44cf-b595-c9f07bb3be2e"
      },
      "execution_count": null,
      "outputs": [
        {
          "output_type": "execute_result",
          "data": {
            "text/plain": [
              "      Athleisure  一體成型  人體工學舒適設計  保暖禦寒  刷毛布  反光功能  單向導溼快乾  四面彈  抗紫外線  \\\n",
              "0            0.0   0.0       0.0   0.0  0.0   0.0     1.0  0.0   0.0   \n",
              "1            0.0   0.0       0.0   0.0  0.0   0.0     0.0  0.0   0.0   \n",
              "2            0.0   0.0       0.0   0.0  0.0   0.0     0.0  1.0   0.0   \n",
              "3            0.0   0.0       0.0   0.0  0.0   0.0     0.0  0.0   0.0   \n",
              "4            0.0   0.0       0.0   0.0  0.0   0.0     0.0  0.0   0.0   \n",
              "...          ...   ...       ...   ...  ...   ...     ...  ...   ...   \n",
              "2183         0.0   0.0       0.0   0.0  0.0   1.0     1.0  0.0   0.0   \n",
              "2184         1.0   0.0       0.0   0.0  0.0   0.0     0.0  0.0   0.0   \n",
              "2185         0.0   0.0       0.0   0.0  0.0   0.0     0.0  0.0   0.0   \n",
              "2186         0.0   0.0       0.0   0.0  0.0   0.0     1.0  1.0   0.0   \n",
              "2187         0.0   0.0       0.0   1.0  1.0   0.0     0.0  0.0   0.0   \n",
              "\n",
              "      提升運動效能設計  ...  舒適伸展  舒適平滑縫合  蒸發性涼感  Cotton Blended  \\\n",
              "0          0.0  ...   0.0     0.0    0.0             0.0   \n",
              "1          0.0  ...   0.0     0.0    0.0             0.0   \n",
              "2          0.0  ...   0.0     0.0    0.0             0.0   \n",
              "3          0.0  ...   0.0     0.0    0.0             0.0   \n",
              "4          1.0  ...   0.0     0.0    0.0             0.0   \n",
              "...        ...  ...   ...     ...    ...             ...   \n",
              "2183       0.0  ...   0.0     0.0    0.0             0.0   \n",
              "2184       1.0  ...   0.0     0.0    0.0             0.0   \n",
              "2185       1.0  ...   0.0     0.0    0.0             0.0   \n",
              "2186       1.0  ...   0.0     0.0    1.0             0.0   \n",
              "2187       0.0  ...   1.0     0.0    0.0             0.0   \n",
              "\n",
              "      Polyamide(Nylon) Blended  Polyester Blended  Spandex 11~20%  \\\n",
              "0                          0.0                1.0             0.0   \n",
              "1                          0.0                0.0             0.0   \n",
              "2                          0.0                0.0             0.0   \n",
              "3                          0.0                0.0             0.0   \n",
              "4                          0.0                0.0             0.0   \n",
              "...                        ...                ...             ...   \n",
              "2183                       0.0                0.0             0.0   \n",
              "2184                       0.0                1.0             0.0   \n",
              "2185                       0.0                1.0             0.0   \n",
              "2186                       1.0                0.0             0.0   \n",
              "2187                       0.0                1.0             1.0   \n",
              "\n",
              "      Spandex <= 10%  Spandex >= 21%  nan  \n",
              "0                0.0             0.0  0.0  \n",
              "1                0.0             0.0  1.0  \n",
              "2                0.0             0.0  1.0  \n",
              "3                0.0             0.0  1.0  \n",
              "4                0.0             0.0  1.0  \n",
              "...              ...             ...  ...  \n",
              "2183             0.0             0.0  1.0  \n",
              "2184             0.0             0.0  0.0  \n",
              "2185             0.0             1.0  0.0  \n",
              "2186             0.0             0.0  0.0  \n",
              "2187             0.0             0.0  0.0  \n",
              "\n",
              "[2188 rows x 23 columns]"
            ],
            "text/html": [
              "\n",
              "  <div id=\"df-8ddf1195-18a3-4712-834c-135e74dd88ff\">\n",
              "    <div class=\"colab-df-container\">\n",
              "      <div>\n",
              "<style scoped>\n",
              "    .dataframe tbody tr th:only-of-type {\n",
              "        vertical-align: middle;\n",
              "    }\n",
              "\n",
              "    .dataframe tbody tr th {\n",
              "        vertical-align: top;\n",
              "    }\n",
              "\n",
              "    .dataframe thead th {\n",
              "        text-align: right;\n",
              "    }\n",
              "</style>\n",
              "<table border=\"1\" class=\"dataframe\">\n",
              "  <thead>\n",
              "    <tr style=\"text-align: right;\">\n",
              "      <th></th>\n",
              "      <th>Athleisure</th>\n",
              "      <th>一體成型</th>\n",
              "      <th>人體工學舒適設計</th>\n",
              "      <th>保暖禦寒</th>\n",
              "      <th>刷毛布</th>\n",
              "      <th>反光功能</th>\n",
              "      <th>單向導溼快乾</th>\n",
              "      <th>四面彈</th>\n",
              "      <th>抗紫外線</th>\n",
              "      <th>提升運動效能設計</th>\n",
              "      <th>...</th>\n",
              "      <th>舒適伸展</th>\n",
              "      <th>舒適平滑縫合</th>\n",
              "      <th>蒸發性涼感</th>\n",
              "      <th>Cotton Blended</th>\n",
              "      <th>Polyamide(Nylon) Blended</th>\n",
              "      <th>Polyester Blended</th>\n",
              "      <th>Spandex 11~20%</th>\n",
              "      <th>Spandex &lt;= 10%</th>\n",
              "      <th>Spandex &gt;= 21%</th>\n",
              "      <th>nan</th>\n",
              "    </tr>\n",
              "  </thead>\n",
              "  <tbody>\n",
              "    <tr>\n",
              "      <th>0</th>\n",
              "      <td>0.0</td>\n",
              "      <td>0.0</td>\n",
              "      <td>0.0</td>\n",
              "      <td>0.0</td>\n",
              "      <td>0.0</td>\n",
              "      <td>0.0</td>\n",
              "      <td>1.0</td>\n",
              "      <td>0.0</td>\n",
              "      <td>0.0</td>\n",
              "      <td>0.0</td>\n",
              "      <td>...</td>\n",
              "      <td>0.0</td>\n",
              "      <td>0.0</td>\n",
              "      <td>0.0</td>\n",
              "      <td>0.0</td>\n",
              "      <td>0.0</td>\n",
              "      <td>1.0</td>\n",
              "      <td>0.0</td>\n",
              "      <td>0.0</td>\n",
              "      <td>0.0</td>\n",
              "      <td>0.0</td>\n",
              "    </tr>\n",
              "    <tr>\n",
              "      <th>1</th>\n",
              "      <td>0.0</td>\n",
              "      <td>0.0</td>\n",
              "      <td>0.0</td>\n",
              "      <td>0.0</td>\n",
              "      <td>0.0</td>\n",
              "      <td>0.0</td>\n",
              "      <td>0.0</td>\n",
              "      <td>0.0</td>\n",
              "      <td>0.0</td>\n",
              "      <td>0.0</td>\n",
              "      <td>...</td>\n",
              "      <td>0.0</td>\n",
              "      <td>0.0</td>\n",
              "      <td>0.0</td>\n",
              "      <td>0.0</td>\n",
              "      <td>0.0</td>\n",
              "      <td>0.0</td>\n",
              "      <td>0.0</td>\n",
              "      <td>0.0</td>\n",
              "      <td>0.0</td>\n",
              "      <td>1.0</td>\n",
              "    </tr>\n",
              "    <tr>\n",
              "      <th>2</th>\n",
              "      <td>0.0</td>\n",
              "      <td>0.0</td>\n",
              "      <td>0.0</td>\n",
              "      <td>0.0</td>\n",
              "      <td>0.0</td>\n",
              "      <td>0.0</td>\n",
              "      <td>0.0</td>\n",
              "      <td>1.0</td>\n",
              "      <td>0.0</td>\n",
              "      <td>0.0</td>\n",
              "      <td>...</td>\n",
              "      <td>0.0</td>\n",
              "      <td>0.0</td>\n",
              "      <td>0.0</td>\n",
              "      <td>0.0</td>\n",
              "      <td>0.0</td>\n",
              "      <td>0.0</td>\n",
              "      <td>0.0</td>\n",
              "      <td>0.0</td>\n",
              "      <td>0.0</td>\n",
              "      <td>1.0</td>\n",
              "    </tr>\n",
              "    <tr>\n",
              "      <th>3</th>\n",
              "      <td>0.0</td>\n",
              "      <td>0.0</td>\n",
              "      <td>0.0</td>\n",
              "      <td>0.0</td>\n",
              "      <td>0.0</td>\n",
              "      <td>0.0</td>\n",
              "      <td>0.0</td>\n",
              "      <td>0.0</td>\n",
              "      <td>0.0</td>\n",
              "      <td>0.0</td>\n",
              "      <td>...</td>\n",
              "      <td>0.0</td>\n",
              "      <td>0.0</td>\n",
              "      <td>0.0</td>\n",
              "      <td>0.0</td>\n",
              "      <td>0.0</td>\n",
              "      <td>0.0</td>\n",
              "      <td>0.0</td>\n",
              "      <td>0.0</td>\n",
              "      <td>0.0</td>\n",
              "      <td>1.0</td>\n",
              "    </tr>\n",
              "    <tr>\n",
              "      <th>4</th>\n",
              "      <td>0.0</td>\n",
              "      <td>0.0</td>\n",
              "      <td>0.0</td>\n",
              "      <td>0.0</td>\n",
              "      <td>0.0</td>\n",
              "      <td>0.0</td>\n",
              "      <td>0.0</td>\n",
              "      <td>0.0</td>\n",
              "      <td>0.0</td>\n",
              "      <td>1.0</td>\n",
              "      <td>...</td>\n",
              "      <td>0.0</td>\n",
              "      <td>0.0</td>\n",
              "      <td>0.0</td>\n",
              "      <td>0.0</td>\n",
              "      <td>0.0</td>\n",
              "      <td>0.0</td>\n",
              "      <td>0.0</td>\n",
              "      <td>0.0</td>\n",
              "      <td>0.0</td>\n",
              "      <td>1.0</td>\n",
              "    </tr>\n",
              "    <tr>\n",
              "      <th>...</th>\n",
              "      <td>...</td>\n",
              "      <td>...</td>\n",
              "      <td>...</td>\n",
              "      <td>...</td>\n",
              "      <td>...</td>\n",
              "      <td>...</td>\n",
              "      <td>...</td>\n",
              "      <td>...</td>\n",
              "      <td>...</td>\n",
              "      <td>...</td>\n",
              "      <td>...</td>\n",
              "      <td>...</td>\n",
              "      <td>...</td>\n",
              "      <td>...</td>\n",
              "      <td>...</td>\n",
              "      <td>...</td>\n",
              "      <td>...</td>\n",
              "      <td>...</td>\n",
              "      <td>...</td>\n",
              "      <td>...</td>\n",
              "      <td>...</td>\n",
              "    </tr>\n",
              "    <tr>\n",
              "      <th>2183</th>\n",
              "      <td>0.0</td>\n",
              "      <td>0.0</td>\n",
              "      <td>0.0</td>\n",
              "      <td>0.0</td>\n",
              "      <td>0.0</td>\n",
              "      <td>1.0</td>\n",
              "      <td>1.0</td>\n",
              "      <td>0.0</td>\n",
              "      <td>0.0</td>\n",
              "      <td>0.0</td>\n",
              "      <td>...</td>\n",
              "      <td>0.0</td>\n",
              "      <td>0.0</td>\n",
              "      <td>0.0</td>\n",
              "      <td>0.0</td>\n",
              "      <td>0.0</td>\n",
              "      <td>0.0</td>\n",
              "      <td>0.0</td>\n",
              "      <td>0.0</td>\n",
              "      <td>0.0</td>\n",
              "      <td>1.0</td>\n",
              "    </tr>\n",
              "    <tr>\n",
              "      <th>2184</th>\n",
              "      <td>1.0</td>\n",
              "      <td>0.0</td>\n",
              "      <td>0.0</td>\n",
              "      <td>0.0</td>\n",
              "      <td>0.0</td>\n",
              "      <td>0.0</td>\n",
              "      <td>0.0</td>\n",
              "      <td>0.0</td>\n",
              "      <td>0.0</td>\n",
              "      <td>1.0</td>\n",
              "      <td>...</td>\n",
              "      <td>0.0</td>\n",
              "      <td>0.0</td>\n",
              "      <td>0.0</td>\n",
              "      <td>0.0</td>\n",
              "      <td>0.0</td>\n",
              "      <td>1.0</td>\n",
              "      <td>0.0</td>\n",
              "      <td>0.0</td>\n",
              "      <td>0.0</td>\n",
              "      <td>0.0</td>\n",
              "    </tr>\n",
              "    <tr>\n",
              "      <th>2185</th>\n",
              "      <td>0.0</td>\n",
              "      <td>0.0</td>\n",
              "      <td>0.0</td>\n",
              "      <td>0.0</td>\n",
              "      <td>0.0</td>\n",
              "      <td>0.0</td>\n",
              "      <td>0.0</td>\n",
              "      <td>0.0</td>\n",
              "      <td>0.0</td>\n",
              "      <td>1.0</td>\n",
              "      <td>...</td>\n",
              "      <td>0.0</td>\n",
              "      <td>0.0</td>\n",
              "      <td>0.0</td>\n",
              "      <td>0.0</td>\n",
              "      <td>0.0</td>\n",
              "      <td>1.0</td>\n",
              "      <td>0.0</td>\n",
              "      <td>0.0</td>\n",
              "      <td>1.0</td>\n",
              "      <td>0.0</td>\n",
              "    </tr>\n",
              "    <tr>\n",
              "      <th>2186</th>\n",
              "      <td>0.0</td>\n",
              "      <td>0.0</td>\n",
              "      <td>0.0</td>\n",
              "      <td>0.0</td>\n",
              "      <td>0.0</td>\n",
              "      <td>0.0</td>\n",
              "      <td>1.0</td>\n",
              "      <td>1.0</td>\n",
              "      <td>0.0</td>\n",
              "      <td>1.0</td>\n",
              "      <td>...</td>\n",
              "      <td>0.0</td>\n",
              "      <td>0.0</td>\n",
              "      <td>1.0</td>\n",
              "      <td>0.0</td>\n",
              "      <td>1.0</td>\n",
              "      <td>0.0</td>\n",
              "      <td>0.0</td>\n",
              "      <td>0.0</td>\n",
              "      <td>0.0</td>\n",
              "      <td>0.0</td>\n",
              "    </tr>\n",
              "    <tr>\n",
              "      <th>2187</th>\n",
              "      <td>0.0</td>\n",
              "      <td>0.0</td>\n",
              "      <td>0.0</td>\n",
              "      <td>1.0</td>\n",
              "      <td>1.0</td>\n",
              "      <td>0.0</td>\n",
              "      <td>0.0</td>\n",
              "      <td>0.0</td>\n",
              "      <td>0.0</td>\n",
              "      <td>0.0</td>\n",
              "      <td>...</td>\n",
              "      <td>1.0</td>\n",
              "      <td>0.0</td>\n",
              "      <td>0.0</td>\n",
              "      <td>0.0</td>\n",
              "      <td>0.0</td>\n",
              "      <td>1.0</td>\n",
              "      <td>1.0</td>\n",
              "      <td>0.0</td>\n",
              "      <td>0.0</td>\n",
              "      <td>0.0</td>\n",
              "    </tr>\n",
              "  </tbody>\n",
              "</table>\n",
              "<p>2188 rows × 23 columns</p>\n",
              "</div>\n",
              "      <button class=\"colab-df-convert\" onclick=\"convertToInteractive('df-8ddf1195-18a3-4712-834c-135e74dd88ff')\"\n",
              "              title=\"Convert this dataframe to an interactive table.\"\n",
              "              style=\"display:none;\">\n",
              "        \n",
              "  <svg xmlns=\"http://www.w3.org/2000/svg\" height=\"24px\"viewBox=\"0 0 24 24\"\n",
              "       width=\"24px\">\n",
              "    <path d=\"M0 0h24v24H0V0z\" fill=\"none\"/>\n",
              "    <path d=\"M18.56 5.44l.94 2.06.94-2.06 2.06-.94-2.06-.94-.94-2.06-.94 2.06-2.06.94zm-11 1L8.5 8.5l.94-2.06 2.06-.94-2.06-.94L8.5 2.5l-.94 2.06-2.06.94zm10 10l.94 2.06.94-2.06 2.06-.94-2.06-.94-.94-2.06-.94 2.06-2.06.94z\"/><path d=\"M17.41 7.96l-1.37-1.37c-.4-.4-.92-.59-1.43-.59-.52 0-1.04.2-1.43.59L10.3 9.45l-7.72 7.72c-.78.78-.78 2.05 0 2.83L4 21.41c.39.39.9.59 1.41.59.51 0 1.02-.2 1.41-.59l7.78-7.78 2.81-2.81c.8-.78.8-2.07 0-2.86zM5.41 20L4 18.59l7.72-7.72 1.47 1.35L5.41 20z\"/>\n",
              "  </svg>\n",
              "      </button>\n",
              "      \n",
              "  <style>\n",
              "    .colab-df-container {\n",
              "      display:flex;\n",
              "      flex-wrap:wrap;\n",
              "      gap: 12px;\n",
              "    }\n",
              "\n",
              "    .colab-df-convert {\n",
              "      background-color: #E8F0FE;\n",
              "      border: none;\n",
              "      border-radius: 50%;\n",
              "      cursor: pointer;\n",
              "      display: none;\n",
              "      fill: #1967D2;\n",
              "      height: 32px;\n",
              "      padding: 0 0 0 0;\n",
              "      width: 32px;\n",
              "    }\n",
              "\n",
              "    .colab-df-convert:hover {\n",
              "      background-color: #E2EBFA;\n",
              "      box-shadow: 0px 1px 2px rgba(60, 64, 67, 0.3), 0px 1px 3px 1px rgba(60, 64, 67, 0.15);\n",
              "      fill: #174EA6;\n",
              "    }\n",
              "\n",
              "    [theme=dark] .colab-df-convert {\n",
              "      background-color: #3B4455;\n",
              "      fill: #D2E3FC;\n",
              "    }\n",
              "\n",
              "    [theme=dark] .colab-df-convert:hover {\n",
              "      background-color: #434B5C;\n",
              "      box-shadow: 0px 1px 3px 1px rgba(0, 0, 0, 0.15);\n",
              "      filter: drop-shadow(0px 1px 2px rgba(0, 0, 0, 0.3));\n",
              "      fill: #FFFFFF;\n",
              "    }\n",
              "  </style>\n",
              "\n",
              "      <script>\n",
              "        const buttonEl =\n",
              "          document.querySelector('#df-8ddf1195-18a3-4712-834c-135e74dd88ff button.colab-df-convert');\n",
              "        buttonEl.style.display =\n",
              "          google.colab.kernel.accessAllowed ? 'block' : 'none';\n",
              "\n",
              "        async function convertToInteractive(key) {\n",
              "          const element = document.querySelector('#df-8ddf1195-18a3-4712-834c-135e74dd88ff');\n",
              "          const dataTable =\n",
              "            await google.colab.kernel.invokeFunction('convertToInteractive',\n",
              "                                                     [key], {});\n",
              "          if (!dataTable) return;\n",
              "\n",
              "          const docLinkHtml = 'Like what you see? Visit the ' +\n",
              "            '<a target=\"_blank\" href=https://colab.research.google.com/notebooks/data_table.ipynb>data table notebook</a>'\n",
              "            + ' to learn more about interactive tables.';\n",
              "          element.innerHTML = '';\n",
              "          dataTable['output_type'] = 'display_data';\n",
              "          await google.colab.output.renderOutput(dataTable, element);\n",
              "          const docLink = document.createElement('div');\n",
              "          docLink.innerHTML = docLinkHtml;\n",
              "          element.appendChild(docLink);\n",
              "        }\n",
              "      </script>\n",
              "    </div>\n",
              "  </div>\n",
              "  "
            ]
          },
          "metadata": {},
          "execution_count": 38
        }
      ]
    },
    {
      "cell_type": "code",
      "source": [
        "import statsmodels.api as sm\n",
        "import numpy as np\n",
        "X = sm.add_constant(data_x)\n",
        "model = sm.OLS(data_y.values,X)\n",
        "results = model.fit()\n",
        "results.summary()"
      ],
      "metadata": {
        "colab": {
          "base_uri": "https://localhost:8080/",
          "height": 948
        },
        "id": "1B4kciNG9OkF",
        "outputId": "55a79057-1328-4f6b-a1e1-21a5082078f6"
      },
      "execution_count": null,
      "outputs": [
        {
          "output_type": "stream",
          "name": "stderr",
          "text": [
            "/usr/local/lib/python3.7/dist-packages/statsmodels/tsa/tsatools.py:117: FutureWarning: In a future version of pandas all arguments of concat except for the argument 'objs' will be keyword-only\n",
            "  x = pd.concat(x[::order], 1)\n"
          ]
        },
        {
          "output_type": "execute_result",
          "data": {
            "text/plain": [
              "<class 'statsmodels.iolib.summary.Summary'>\n",
              "\"\"\"\n",
              "                            OLS Regression Results                            \n",
              "==============================================================================\n",
              "Dep. Variable:                      y   R-squared:                       0.121\n",
              "Model:                            OLS   Adj. R-squared:                  0.112\n",
              "Method:                 Least Squares   F-statistic:                     12.97\n",
              "Date:                Thu, 26 May 2022   Prob (F-statistic):           3.44e-46\n",
              "Time:                        14:23:13   Log-Likelihood:                -288.96\n",
              "No. Observations:                2188   AIC:                             625.9\n",
              "Df Residuals:                    2164   BIC:                             762.5\n",
              "Df Model:                          23                                         \n",
              "Covariance Type:            nonrobust                                         \n",
              "============================================================================================\n",
              "                               coef    std err          t      P>|t|      [0.025      0.975]\n",
              "--------------------------------------------------------------------------------------------\n",
              "const                        4.2912      0.047     91.606      0.000       4.199       4.383\n",
              "Athleisure                  -0.1814      0.053     -3.452      0.001      -0.284      -0.078\n",
              "一體成型                        -0.2165      0.020    -10.772      0.000      -0.256      -0.177\n",
              "人體工學舒適設計                     0.1289      0.070      1.834      0.067      -0.009       0.267\n",
              "保暖禦寒                        -0.0205      0.046     -0.441      0.659      -0.112       0.071\n",
              "刷毛布                          0.0886      0.048      1.852      0.064      -0.005       0.182\n",
              "反光功能                         0.1552      0.057      2.743      0.006       0.044       0.266\n",
              "單向導溼快乾                       0.0554      0.030      1.818      0.069      -0.004       0.115\n",
              "四面彈                          0.1296      0.019      6.806      0.000       0.092       0.167\n",
              "抗紫外線                         0.0433      0.053      0.822      0.411      -0.060       0.147\n",
              "提升運動效能設計                     0.0034      0.015      0.235      0.814      -0.025       0.032\n",
              "涼爽透氣                         0.0725      0.028      2.572      0.010       0.017       0.128\n",
              "異味控制                         0.0434      0.083      0.520      0.603      -0.120       0.207\n",
              "結構性透氣                     8.162e-05      0.036      0.002      0.998      -0.070       0.071\n",
              "舒適伸展                         0.0021      0.039      0.055      0.956      -0.074       0.078\n",
              "舒適平滑縫合                       0.0250      0.054      0.461      0.645      -0.081       0.131\n",
              "蒸發性涼感                       -0.0655      0.034     -1.931      0.054      -0.132       0.001\n",
              "Cotton Blended               0.0888      0.065      1.360      0.174      -0.039       0.217\n",
              "Polyamide(Nylon) Blended     0.0458      0.053      0.870      0.384      -0.057       0.149\n",
              "Polyester Blended           -0.0608      0.049     -1.232      0.218      -0.158       0.036\n",
              "Spandex 11~20%               0.2133      0.053      4.001      0.000       0.109       0.318\n",
              "Spandex <= 10%              -0.0071      0.050     -0.143      0.887      -0.105       0.091\n",
              "Spandex >= 21%               0.1343      0.056      2.418      0.016       0.025       0.243\n",
              "nan                          0.1622      0.047      3.475      0.001       0.071       0.254\n",
              "==============================================================================\n",
              "Omnibus:                      864.965   Durbin-Watson:                   1.420\n",
              "Prob(Omnibus):                  0.000   Jarque-Bera (JB):             4619.111\n",
              "Skew:                          -1.801   Prob(JB):                         0.00\n",
              "Kurtosis:                       9.139   Cond. No.                         22.2\n",
              "==============================================================================\n",
              "\n",
              "Warnings:\n",
              "[1] Standard Errors assume that the covariance matrix of the errors is correctly specified.\n",
              "\"\"\""
            ],
            "text/html": [
              "<table class=\"simpletable\">\n",
              "<caption>OLS Regression Results</caption>\n",
              "<tr>\n",
              "  <th>Dep. Variable:</th>            <td>y</td>        <th>  R-squared:         </th> <td>   0.121</td>\n",
              "</tr>\n",
              "<tr>\n",
              "  <th>Model:</th>                   <td>OLS</td>       <th>  Adj. R-squared:    </th> <td>   0.112</td>\n",
              "</tr>\n",
              "<tr>\n",
              "  <th>Method:</th>             <td>Least Squares</td>  <th>  F-statistic:       </th> <td>   12.97</td>\n",
              "</tr>\n",
              "<tr>\n",
              "  <th>Date:</th>             <td>Thu, 26 May 2022</td> <th>  Prob (F-statistic):</th> <td>3.44e-46</td>\n",
              "</tr>\n",
              "<tr>\n",
              "  <th>Time:</th>                 <td>14:23:13</td>     <th>  Log-Likelihood:    </th> <td> -288.96</td>\n",
              "</tr>\n",
              "<tr>\n",
              "  <th>No. Observations:</th>      <td>  2188</td>      <th>  AIC:               </th> <td>   625.9</td>\n",
              "</tr>\n",
              "<tr>\n",
              "  <th>Df Residuals:</th>          <td>  2164</td>      <th>  BIC:               </th> <td>   762.5</td>\n",
              "</tr>\n",
              "<tr>\n",
              "  <th>Df Model:</th>              <td>    23</td>      <th>                     </th>     <td> </td>   \n",
              "</tr>\n",
              "<tr>\n",
              "  <th>Covariance Type:</th>      <td>nonrobust</td>    <th>                     </th>     <td> </td>   \n",
              "</tr>\n",
              "</table>\n",
              "<table class=\"simpletable\">\n",
              "<tr>\n",
              "              <td></td>                <th>coef</th>     <th>std err</th>      <th>t</th>      <th>P>|t|</th>  <th>[0.025</th>    <th>0.975]</th>  \n",
              "</tr>\n",
              "<tr>\n",
              "  <th>const</th>                    <td>    4.2912</td> <td>    0.047</td> <td>   91.606</td> <td> 0.000</td> <td>    4.199</td> <td>    4.383</td>\n",
              "</tr>\n",
              "<tr>\n",
              "  <th>Athleisure</th>               <td>   -0.1814</td> <td>    0.053</td> <td>   -3.452</td> <td> 0.001</td> <td>   -0.284</td> <td>   -0.078</td>\n",
              "</tr>\n",
              "<tr>\n",
              "  <th>一體成型</th>                     <td>   -0.2165</td> <td>    0.020</td> <td>  -10.772</td> <td> 0.000</td> <td>   -0.256</td> <td>   -0.177</td>\n",
              "</tr>\n",
              "<tr>\n",
              "  <th>人體工學舒適設計</th>                 <td>    0.1289</td> <td>    0.070</td> <td>    1.834</td> <td> 0.067</td> <td>   -0.009</td> <td>    0.267</td>\n",
              "</tr>\n",
              "<tr>\n",
              "  <th>保暖禦寒</th>                     <td>   -0.0205</td> <td>    0.046</td> <td>   -0.441</td> <td> 0.659</td> <td>   -0.112</td> <td>    0.071</td>\n",
              "</tr>\n",
              "<tr>\n",
              "  <th>刷毛布</th>                      <td>    0.0886</td> <td>    0.048</td> <td>    1.852</td> <td> 0.064</td> <td>   -0.005</td> <td>    0.182</td>\n",
              "</tr>\n",
              "<tr>\n",
              "  <th>反光功能</th>                     <td>    0.1552</td> <td>    0.057</td> <td>    2.743</td> <td> 0.006</td> <td>    0.044</td> <td>    0.266</td>\n",
              "</tr>\n",
              "<tr>\n",
              "  <th>單向導溼快乾</th>                   <td>    0.0554</td> <td>    0.030</td> <td>    1.818</td> <td> 0.069</td> <td>   -0.004</td> <td>    0.115</td>\n",
              "</tr>\n",
              "<tr>\n",
              "  <th>四面彈</th>                      <td>    0.1296</td> <td>    0.019</td> <td>    6.806</td> <td> 0.000</td> <td>    0.092</td> <td>    0.167</td>\n",
              "</tr>\n",
              "<tr>\n",
              "  <th>抗紫外線</th>                     <td>    0.0433</td> <td>    0.053</td> <td>    0.822</td> <td> 0.411</td> <td>   -0.060</td> <td>    0.147</td>\n",
              "</tr>\n",
              "<tr>\n",
              "  <th>提升運動效能設計</th>                 <td>    0.0034</td> <td>    0.015</td> <td>    0.235</td> <td> 0.814</td> <td>   -0.025</td> <td>    0.032</td>\n",
              "</tr>\n",
              "<tr>\n",
              "  <th>涼爽透氣</th>                     <td>    0.0725</td> <td>    0.028</td> <td>    2.572</td> <td> 0.010</td> <td>    0.017</td> <td>    0.128</td>\n",
              "</tr>\n",
              "<tr>\n",
              "  <th>異味控制</th>                     <td>    0.0434</td> <td>    0.083</td> <td>    0.520</td> <td> 0.603</td> <td>   -0.120</td> <td>    0.207</td>\n",
              "</tr>\n",
              "<tr>\n",
              "  <th>結構性透氣</th>                    <td> 8.162e-05</td> <td>    0.036</td> <td>    0.002</td> <td> 0.998</td> <td>   -0.070</td> <td>    0.071</td>\n",
              "</tr>\n",
              "<tr>\n",
              "  <th>舒適伸展</th>                     <td>    0.0021</td> <td>    0.039</td> <td>    0.055</td> <td> 0.956</td> <td>   -0.074</td> <td>    0.078</td>\n",
              "</tr>\n",
              "<tr>\n",
              "  <th>舒適平滑縫合</th>                   <td>    0.0250</td> <td>    0.054</td> <td>    0.461</td> <td> 0.645</td> <td>   -0.081</td> <td>    0.131</td>\n",
              "</tr>\n",
              "<tr>\n",
              "  <th>蒸發性涼感</th>                    <td>   -0.0655</td> <td>    0.034</td> <td>   -1.931</td> <td> 0.054</td> <td>   -0.132</td> <td>    0.001</td>\n",
              "</tr>\n",
              "<tr>\n",
              "  <th>Cotton Blended</th>           <td>    0.0888</td> <td>    0.065</td> <td>    1.360</td> <td> 0.174</td> <td>   -0.039</td> <td>    0.217</td>\n",
              "</tr>\n",
              "<tr>\n",
              "  <th>Polyamide(Nylon) Blended</th> <td>    0.0458</td> <td>    0.053</td> <td>    0.870</td> <td> 0.384</td> <td>   -0.057</td> <td>    0.149</td>\n",
              "</tr>\n",
              "<tr>\n",
              "  <th>Polyester Blended</th>        <td>   -0.0608</td> <td>    0.049</td> <td>   -1.232</td> <td> 0.218</td> <td>   -0.158</td> <td>    0.036</td>\n",
              "</tr>\n",
              "<tr>\n",
              "  <th>Spandex 11~20%</th>           <td>    0.2133</td> <td>    0.053</td> <td>    4.001</td> <td> 0.000</td> <td>    0.109</td> <td>    0.318</td>\n",
              "</tr>\n",
              "<tr>\n",
              "  <th>Spandex <= 10%</th>           <td>   -0.0071</td> <td>    0.050</td> <td>   -0.143</td> <td> 0.887</td> <td>   -0.105</td> <td>    0.091</td>\n",
              "</tr>\n",
              "<tr>\n",
              "  <th>Spandex >= 21%</th>           <td>    0.1343</td> <td>    0.056</td> <td>    2.418</td> <td> 0.016</td> <td>    0.025</td> <td>    0.243</td>\n",
              "</tr>\n",
              "<tr>\n",
              "  <th>nan</th>                      <td>    0.1622</td> <td>    0.047</td> <td>    3.475</td> <td> 0.001</td> <td>    0.071</td> <td>    0.254</td>\n",
              "</tr>\n",
              "</table>\n",
              "<table class=\"simpletable\">\n",
              "<tr>\n",
              "  <th>Omnibus:</th>       <td>864.965</td> <th>  Durbin-Watson:     </th> <td>   1.420</td>\n",
              "</tr>\n",
              "<tr>\n",
              "  <th>Prob(Omnibus):</th> <td> 0.000</td>  <th>  Jarque-Bera (JB):  </th> <td>4619.111</td>\n",
              "</tr>\n",
              "<tr>\n",
              "  <th>Skew:</th>          <td>-1.801</td>  <th>  Prob(JB):          </th> <td>    0.00</td>\n",
              "</tr>\n",
              "<tr>\n",
              "  <th>Kurtosis:</th>      <td> 9.139</td>  <th>  Cond. No.          </th> <td>    22.2</td>\n",
              "</tr>\n",
              "</table><br/><br/>Warnings:<br/>[1] Standard Errors assume that the covariance matrix of the errors is correctly specified."
            ]
          },
          "metadata": {},
          "execution_count": 39
        }
      ]
    },
    {
      "cell_type": "code",
      "source": [
        "data_x['四面彈'].sum()"
      ],
      "metadata": {
        "colab": {
          "base_uri": "https://localhost:8080/"
        },
        "id": "ucUwudsUqg_L",
        "outputId": "2781b928-3855-4495-d509-e6b4a2f944fc"
      },
      "execution_count": null,
      "outputs": [
        {
          "output_type": "execute_result",
          "data": {
            "text/plain": [
              "276.0"
            ]
          },
          "metadata": {},
          "execution_count": 42
        }
      ]
    },
    {
      "cell_type": "code",
      "source": [
        "idx = (-reg.coef_).argsort()\n",
        "# map index to feature list\n",
        "desc_feature = [data_x.columns[i] for i in idx]\n",
        "# select the top 5 feature\n",
        "top_feature = desc_feature [:10]\n",
        "for i in range(10):\n",
        "    print(top_feature[i], np.sort(reg.coef_)[::-1][i])"
      ],
      "metadata": {
        "colab": {
          "base_uri": "https://localhost:8080/"
        },
        "id": "5qOAal3d4q_G",
        "outputId": "11b26368-a579-4bf4-aafe-b46062bbb6ac"
      },
      "execution_count": null,
      "outputs": [
        {
          "output_type": "stream",
          "name": "stdout",
          "text": [
            "100% Wool 4951158923638.049\n",
            "撥水 19405464904.33307\n",
            "超輕量 3940544343.603464\n",
            "Recycled Polyester & Blended 3023322516.2322197\n",
            "PTT 0.7629091398492581\n",
            "nan 0.5727498747227127\n",
            "100% Cotton 0.4411595834003511\n",
            "all/any Spandex 0.42909695813834703\n",
            "Silk 0.42894268163133104\n",
            "防風機能 0.26758450011038315\n"
          ]
        }
      ]
    }
  ]
}