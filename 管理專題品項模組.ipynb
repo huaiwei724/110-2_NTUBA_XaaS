{
  "nbformat": 4,
  "nbformat_minor": 0,
  "metadata": {
    "colab": {
      "name": "管理專題品項模組.ipynb",
      "provenance": [],
      "collapsed_sections": []
    },
    "kernelspec": {
      "name": "python3",
      "display_name": "Python 3"
    },
    "language_info": {
      "name": "python"
    }
  },
  "cells": [
    {
      "cell_type": "code",
      "source": [
        "!gdown --id 13m7JpglX7AL_hggkICfbbct-kUavyPbx"
      ],
      "metadata": {
        "colab": {
          "base_uri": "https://localhost:8080/"
        },
        "id": "bEMqLmgOYC0G",
        "outputId": "a22534c3-3fa6-4b0c-f00b-af010d6c8463"
      },
      "execution_count": null,
      "outputs": [
        {
          "output_type": "stream",
          "name": "stdout",
          "text": [
            "/usr/local/lib/python3.7/dist-packages/gdown/cli.py:131: FutureWarning: Option `--id` was deprecated in version 4.3.1 and will be removed in 5.0. You don't need to pass it anymore to use a file ID.\n",
            "  category=FutureWarning,\n",
            "Downloading...\n",
            "From: https://drive.google.com/uc?id=13m7JpglX7AL_hggkICfbbct-kUavyPbx\n",
            "To: /content/SMIS電商與品牌近一年資料.zip\n",
            "100% 61.1M/61.1M [00:00<00:00, 239MB/s]\n"
          ]
        }
      ]
    },
    {
      "cell_type": "code",
      "execution_count": null,
      "metadata": {
        "colab": {
          "base_uri": "https://localhost:8080/"
        },
        "id": "JkvkfKXLX-nG",
        "outputId": "04a3220a-d62e-43be-c310-ad809d80febe"
      },
      "outputs": [
        {
          "output_type": "stream",
          "name": "stdout",
          "text": [
            "Archive:  SMIS電商與品牌近一年資料.zip\n",
            "replace Products.csv? [y]es, [n]o, [A]ll, [N]one, [r]ename: "
          ]
        }
      ],
      "source": [
        "!unzip SMIS電商與品牌近一年資料.zip"
      ]
    },
    {
      "cell_type": "code",
      "source": [
        "# Settings\n",
        "\n",
        "sport = 'Training & Gym'\n",
        "clothing = ['Leggings & Tights']  # ['Sports Bra', 'Leggings & Tights','']\n",
        "time_range = ['2021/2/28','2022/5/9']\n",
        "feature_cols = ['Feature','Material']  # Color, Gender\n",
        "strList_cols = ['Color','Feature','Material']  # 資料中是以list儲存的columns "
      ],
      "metadata": {
        "id": "vwE3nvuJhqP9"
      },
      "execution_count": null,
      "outputs": []
    },
    {
      "cell_type": "code",
      "source": [
        "# funtioncs\n",
        "import json\n",
        "\n",
        "def check_clothing(clothing_list):\n",
        "    \n",
        "    clothing_list = list(map(str.strip, clothing_list.strip('][').replace(\"'\", '').split(','))) \n",
        "    # 將讀近來文字的list轉換成list '[a,b,c]' -> [a,b,c]\n",
        "\n",
        "    for i in clothing_list:\n",
        "        if i in clothing:\n",
        "            return True\n",
        "    return False\n",
        "    "
      ],
      "metadata": {
        "id": "wRz5ZdC8ER0I"
      },
      "execution_count": null,
      "outputs": []
    },
    {
      "cell_type": "code",
      "source": [
        "# Read Data\n",
        "import pandas as pd\n",
        "import numpy as np\n",
        "\n",
        "E_Products = pd.read_csv('E_Products.csv',low_memory = False)\n",
        "E_Products['CreateDate'] = pd.to_datetime(E_Products['CreateDate'])\n",
        "\n",
        "Products = pd.read_csv('Products.csv',low_memory = False)\n",
        "Products['CreateDate'] = pd.to_datetime(Products['CreateDate'])"
      ],
      "metadata": {
        "id": "tTulSSt4fp4S"
      },
      "execution_count": null,
      "outputs": []
    },
    {
      "cell_type": "code",
      "source": [
        "E_Products['Sport'] = E_Products['Sport'].fillna('others')\n",
        "E_Products = E_Products[E_Products['Sport'].apply(lambda x: True if sport in x else False)]\n",
        "\n",
        "Products['Sport'] = Products['Sport'].fillna('others')\n",
        "Products = Products[Products['Sport'].apply(lambda x: True if sport in x else False)]"
      ],
      "metadata": {
        "id": "rki6WZzuuMOs"
      },
      "execution_count": null,
      "outputs": []
    },
    {
      "cell_type": "code",
      "source": [
        "E_Products['Sport']"
      ],
      "metadata": {
        "id": "PzcaSrDnu0-2",
        "colab": {
          "base_uri": "https://localhost:8080/"
        },
        "outputId": "4bac214e-2cea-4a0e-f7e4-b2eac3e8b183"
      },
      "execution_count": null,
      "outputs": [
        {
          "output_type": "execute_result",
          "data": {
            "text/plain": [
              "5                                       ['Training & Gym']\n",
              "11                                      ['Training & Gym']\n",
              "26                                      ['Training & Gym']\n",
              "40                                      ['Training & Gym']\n",
              "43                           ['Running', 'Training & Gym']\n",
              "                               ...                        \n",
              "80822    ['Climbing', 'Running', 'Training & Gym', 'Yoga']\n",
              "80828    ['Running', 'Training & Gym', 'Lifestyle', 'Yo...\n",
              "80834    ['Tennis', 'Hiking & Trail', 'Walking', 'Golf'...\n",
              "80841    ['Running', 'Training & Gym', 'Lifestyle', 'Yo...\n",
              "80844    ['Hiking & Trail', 'Training & Gym', 'Running'...\n",
              "Name: Sport, Length: 13874, dtype: object"
            ]
          },
          "metadata": {},
          "execution_count": 33
        }
      ]
    },
    {
      "cell_type": "code",
      "source": [
        "E_Products.info()"
      ],
      "metadata": {
        "colab": {
          "base_uri": "https://localhost:8080/"
        },
        "id": "BmAIac7Csdv5",
        "outputId": "bb8096e4-522c-4b36-c01a-01f63d1633eb"
      },
      "execution_count": null,
      "outputs": [
        {
          "output_type": "stream",
          "name": "stdout",
          "text": [
            "<class 'pandas.core.frame.DataFrame'>\n",
            "Int64Index: 13874 entries, 5 to 80844\n",
            "Data columns (total 35 columns):\n",
            " #   Column         Non-Null Count  Dtype         \n",
            "---  ------         --------------  -----         \n",
            " 0   Unnamed: 0     13874 non-null  int64         \n",
            " 1   _id            13874 non-null  object        \n",
            " 2   Store          13874 non-null  object        \n",
            " 3   Url            13874 non-null  object        \n",
            " 4   Gender         13517 non-null  object        \n",
            " 5   ModifiedDate   13874 non-null  object        \n",
            " 6   ReviewNumber   12617 non-null  float64       \n",
            " 7   AverageRating  12537 non-null  float64       \n",
            " 8   Price          13343 non-null  float64       \n",
            " 9   RatingTrack    11316 non-null  object        \n",
            " 10  PriceTrack     11316 non-null  object        \n",
            " 11  CreateDate     13874 non-null  datetime64[ns]\n",
            " 12  OldPrice       6505 non-null   float64       \n",
            " 13  Brand          13838 non-null  object        \n",
            " 14  Bullets        13874 non-null  object        \n",
            " 15  Color          13138 non-null  object        \n",
            " 16  ImageUrl       13873 non-null  object        \n",
            " 17  Name           13874 non-null  object        \n",
            " 18  StyleNumber    586 non-null    object        \n",
            " 19  Clothing       13727 non-null  object        \n",
            " 20  Feature        13874 non-null  object        \n",
            " 21  Material       3401 non-null   object        \n",
            " 22  Sport          13874 non-null  object        \n",
            " 23  Description    13859 non-null  object        \n",
            " 24  Fulltext       13516 non-null  object        \n",
            " 25  PriceMax       3119 non-null   float64       \n",
            " 26  PriceMin       3119 non-null   float64       \n",
            " 27  PriceOriginal  50 non-null     float64       \n",
            " 28  ProductID      378 non-null    object        \n",
            " 29  ClothingType   13341 non-null  object        \n",
            " 30  SportType      13341 non-null  object        \n",
            " 31  Features       13341 non-null  object        \n",
            " 32  OurImage       12892 non-null  object        \n",
            " 33  WebID          357 non-null    object        \n",
            " 34  ASIN           12963 non-null  object        \n",
            "dtypes: datetime64[ns](1), float64(7), int64(1), object(26)\n",
            "memory usage: 3.8+ MB\n"
          ]
        }
      ]
    },
    {
      "cell_type": "code",
      "source": [
        "Products.info()"
      ],
      "metadata": {
        "colab": {
          "base_uri": "https://localhost:8080/"
        },
        "id": "IqprBKLWsgez",
        "outputId": "9964b954-c286-4793-de7f-5028fe8d4f98"
      },
      "execution_count": null,
      "outputs": [
        {
          "output_type": "stream",
          "name": "stdout",
          "text": [
            "<class 'pandas.core.frame.DataFrame'>\n",
            "Int64Index: 14515 entries, 10 to 106323\n",
            "Data columns (total 33 columns):\n",
            " #   Column               Non-Null Count  Dtype         \n",
            "---  ------               --------------  -----         \n",
            " 0   Unnamed: 0           14515 non-null  int64         \n",
            " 1   _id                  14515 non-null  object        \n",
            " 2   Url                  14515 non-null  object        \n",
            " 3   Gender               14515 non-null  object        \n",
            " 4   Brand                14515 non-null  object        \n",
            " 5   StyleNumber          14515 non-null  object        \n",
            " 6   ProductID            4819 non-null   object        \n",
            " 7   AverageRating        12528 non-null  float64       \n",
            " 8   ReviewNumber         12890 non-null  float64       \n",
            " 9   Name                 14515 non-null  object        \n",
            " 10  Color                3720 non-null   object        \n",
            " 11  Bullets              14515 non-null  object        \n",
            " 12  ImageUrl             14515 non-null  object        \n",
            " 13  Price                14513 non-null  float64       \n",
            " 14  Sport                14515 non-null  object        \n",
            " 15  Clothing             14515 non-null  object        \n",
            " 16  CreateDate           14515 non-null  datetime64[ns]\n",
            " 17  ModifiedDate         14515 non-null  object        \n",
            " 18  Description          14515 non-null  object        \n",
            " 19  Fulltext             14515 non-null  object        \n",
            " 20  Feature              14515 non-null  object        \n",
            " 21  Material             14063 non-null  object        \n",
            " 22  OurImage             12613 non-null  object        \n",
            " 23  ColorLock            8954 non-null   object        \n",
            " 24  AllColorRatio        8942 non-null   object        \n",
            " 25  ColorCode            8952 non-null   object        \n",
            " 26  ColorUpdatedCounter  8942 non-null   float64       \n",
            " 27  ColorUpdatedDate     8942 non-null   object        \n",
            " 28  ColorVersion         8942 non-null   float64       \n",
            " 29  NewColor             8952 non-null   object        \n",
            " 30  Pattern              1676 non-null   object        \n",
            " 31  ColorObj             10384 non-null  object        \n",
            " 32  NewArrival           821 non-null    object        \n",
            "dtypes: datetime64[ns](1), float64(5), int64(1), object(26)\n",
            "memory usage: 3.8+ MB\n"
          ]
        }
      ]
    },
    {
      "cell_type": "code",
      "source": [
        "# Selecting data\n",
        "\n",
        "df_P = Products.loc[(Products['CreateDate'] >= pd.to_datetime(time_range[0])) & (Products['CreateDate'] <= pd.to_datetime(time_range[1]))]\n",
        "df_E = E_Products.loc[(E_Products['CreateDate'] >= pd.to_datetime(time_range[0])) & (E_Products['CreateDate'] <= pd.to_datetime(time_range[1]))]\n",
        "df_P['Clothing'] = df_P['Clothing'].fillna('[\\'nan\\']')\n",
        "df_E['Clothing'] = df_E['Clothing'].fillna('[\\'nan\\']')"
      ],
      "metadata": {
        "id": "zY16xH0F8Gq6"
      },
      "execution_count": null,
      "outputs": []
    },
    {
      "cell_type": "code",
      "source": [
        "import ast \n",
        "ls = [] \n",
        "s = set()\n",
        "for i in df_P['Clothing'].unique():\n",
        "    s = s|set(ast.literal_eval(i))\n",
        "clothing_dic = dict(zip(list(s), len(list(s))*[0]))"
      ],
      "metadata": {
        "id": "2L-tWE04xszz"
      },
      "execution_count": null,
      "outputs": []
    },
    {
      "cell_type": "code",
      "source": [
        "for i in df_P['Clothing']:\n",
        "    for j in ast.literal_eval(i):\n",
        "        clothing_dic[j] += 1 \n",
        "sorted(clothing_dic.items(), key=lambda x: x[1])"
      ],
      "metadata": {
        "colab": {
          "base_uri": "https://localhost:8080/"
        },
        "id": "pTN5nQ792YQf",
        "outputId": "3701ffe9-ec60-4ff9-da36-577a346a5070"
      },
      "execution_count": null,
      "outputs": [
        {
          "output_type": "execute_result",
          "data": {
            "text/plain": [
              "[('Softshells', 1),\n",
              " ('Balls', 1),\n",
              " ('Hardware', 1),\n",
              " ('Surfing', 2),\n",
              " ('Athletic & Sneakers', 2),\n",
              " (\"What's New\", 2),\n",
              " ('Bags', 3),\n",
              " ('We Made Too Much', 4),\n",
              " ('Water Bottles', 4),\n",
              " ('Selfcare', 4),\n",
              " ('Headphones', 4),\n",
              " ('clothing', 5),\n",
              " ('Accessories', 6),\n",
              " ('women', 7),\n",
              " ('men', 7),\n",
              " ('Fleece', 11),\n",
              " ('Insulated & Down', 14),\n",
              " ('shoes', 15),\n",
              " ('Vest', 28),\n",
              " ('Windwear', 49),\n",
              " ('Compression wear', 50),\n",
              " ('Swimwear', 71),\n",
              " ('Other Accessories', 86),\n",
              " ('Polo', 89),\n",
              " ('Skirt & Dresses', 105),\n",
              " ('Headband & Sweatband', 118),\n",
              " ('Hats & Scarves', 232),\n",
              " ('Jackets & Vests', 459),\n",
              " ('Tops', 518),\n",
              " ('Sock', 622),\n",
              " ('Bottoms', 720),\n",
              " ('Long Sleeve', 733),\n",
              " ('Pants', 1201),\n",
              " ('Tank', 1448),\n",
              " ('Hoodie & Sweatshirt', 1471),\n",
              " ('Leggings & Tights', 1671),\n",
              " ('Sports Bra', 1707),\n",
              " ('Shorts', 1968),\n",
              " ('Short Sleeve', 2067)]"
            ]
          },
          "metadata": {},
          "execution_count": 38
        }
      ]
    },
    {
      "cell_type": "code",
      "source": [
        "df_P = df_P.loc[df_P['Clothing'].apply(lambda x: check_clothing(x))]\n",
        "df_E = df_E.loc[df_E['Clothing'].apply(lambda x: check_clothing(x))]"
      ],
      "metadata": {
        "id": "ypVlYX1Oybh2"
      },
      "execution_count": null,
      "outputs": []
    },
    {
      "cell_type": "code",
      "source": [
        "df_E.shape[0]"
      ],
      "metadata": {
        "colab": {
          "base_uri": "https://localhost:8080/"
        },
        "id": "ulv0TclErnyi",
        "outputId": "cdc9f2d1-1a1d-48ad-dc39-cdbd8665b462"
      },
      "execution_count": null,
      "outputs": [
        {
          "output_type": "execute_result",
          "data": {
            "text/plain": [
              "3011"
            ]
          },
          "metadata": {},
          "execution_count": 40
        }
      ]
    },
    {
      "cell_type": "code",
      "source": [
        "pd.concat([df_E, df_P])"
      ],
      "metadata": {
        "colab": {
          "base_uri": "https://localhost:8080/",
          "height": 783
        },
        "id": "h33GdGNGsCpj",
        "outputId": "6d1cdd46-7dab-4158-e3b7-48bccb35b241"
      },
      "execution_count": null,
      "outputs": [
        {
          "output_type": "execute_result",
          "data": {
            "text/plain": [
              "        Unnamed: 0                       _id      Store  \\\n",
              "63              63  603d8e95a6175c957ca8ab7a  decathlon   \n",
              "129            129  603d8f0dc8eb83cdf2d33463  amazon-US   \n",
              "133            133  603d8f1fc8eb83cdf2d33464  amazon-US   \n",
              "141            141  603d8f2e8671f3aa935645df      dicks   \n",
              "156            156  603d8f3c50484d3a36559f6d        rei   \n",
              "...            ...                       ...        ...   \n",
              "106313      106313  62331f5d7a31776068e375e7        NaN   \n",
              "106315      106315  62331f5d7a31776068e375e9        NaN   \n",
              "106317      106317  62331f5e7a31776068e375eb        NaN   \n",
              "106318      106318  62331f5e7a31776068e375ec        NaN   \n",
              "106323      106323  62331f5e7a31776068e375f1        NaN   \n",
              "\n",
              "                                                      Url Gender ModifiedDate  \\\n",
              "63      https://www.decathlon.co.uk/p/fitness-leggings...  women   2021-07-11   \n",
              "129                  https://www.amazon.com/dp/B08XH6N3DR  women   2021-03-21   \n",
              "133                  https://www.amazon.com/dp/B08XBKVXRW  women   2021-02-28   \n",
              "141     https://www.dickssportinggoods.com/p/adidas-wo...    NaN   2021-03-07   \n",
              "156     https://www.rei.com/rei-garage/product/191636/...  women   2021-03-28   \n",
              "...                                                   ...    ...          ...   \n",
              "106313  https://us.puma.com/us/en/pd/formknit-seamless...  women   2022-03-13   \n",
              "106315  https://us.puma.com/us/en/pd/flawless-high-wai...  women   2022-03-13   \n",
              "106317  https://us.puma.com/us/en/pd/seamless-high-wai...  women   2022-03-13   \n",
              "106318  https://us.puma.com/us/en/pd/studio-foundation...  women   2022-03-13   \n",
              "106323  https://us.puma.com/us/en/pd/studio-ottoman-hi...  women   2022-03-13   \n",
              "\n",
              "        ReviewNumber  AverageRating  Price  \\\n",
              "63            3422.0            4.6  12.99   \n",
              "129           9189.0            4.4  24.99   \n",
              "133              1.0            1.0  13.89   \n",
              "141              0.0            NaN  50.00   \n",
              "156              1.0            5.0  75.73   \n",
              "...              ...            ...    ...   \n",
              "106313           NaN            NaN  55.00   \n",
              "106315           NaN            NaN  70.00   \n",
              "106317           3.0            4.7  55.00   \n",
              "106318           NaN            NaN  45.00   \n",
              "106323           NaN            NaN  70.00   \n",
              "\n",
              "                                              RatingTrack  ... ColorLock  \\\n",
              "63      {'2021-07-11': {'AverageRating': None, 'Review...  ...       NaN   \n",
              "129     {'2021-03-21': {'AverageRating': 4.4, 'ReviewN...  ...       NaN   \n",
              "133     {'2021-02-28': {'AverageRating': 1.0, 'ReviewN...  ...       NaN   \n",
              "141     {'2021-02-28': {'AverageRating': None, 'Review...  ...       NaN   \n",
              "156     {'2021-02-28': {'RatingCount': 1.0, 'Rating': ...  ...       NaN   \n",
              "...                                                   ...  ...       ...   \n",
              "106313                                                NaN  ...       NaN   \n",
              "106315                                                NaN  ...       NaN   \n",
              "106317                                                NaN  ...       NaN   \n",
              "106318                                                NaN  ...       NaN   \n",
              "106323                                                NaN  ...       NaN   \n",
              "\n",
              "       AllColorRatio  ColorCode ColorUpdatedCounter ColorUpdatedDate  \\\n",
              "63               NaN        NaN                 NaN              NaN   \n",
              "129              NaN        NaN                 NaN              NaN   \n",
              "133              NaN        NaN                 NaN              NaN   \n",
              "141              NaN        NaN                 NaN              NaN   \n",
              "156              NaN        NaN                 NaN              NaN   \n",
              "...              ...        ...                 ...              ...   \n",
              "106313           NaN        NaN                 NaN              NaN   \n",
              "106315           NaN        NaN                 NaN              NaN   \n",
              "106317           NaN        NaN                 NaN              NaN   \n",
              "106318           NaN        NaN                 NaN              NaN   \n",
              "106323           NaN        NaN                 NaN              NaN   \n",
              "\n",
              "       ColorVersion NewColor Pattern               ColorObj NewArrival  \n",
              "63              NaN      NaN     NaN                    NaN        NaN  \n",
              "129             NaN      NaN     NaN                    NaN        NaN  \n",
              "133             NaN      NaN     NaN                    NaN        NaN  \n",
              "141             NaN      NaN     NaN                    NaN        NaN  \n",
              "156             NaN      NaN     NaN                    NaN        NaN  \n",
              "...             ...      ...     ...                    ...        ...  \n",
              "106313          NaN      NaN     NaN  Nitro Blue-Puma White        NaN  \n",
              "106315          NaN      NaN     NaN            Deep Orchid        NaN  \n",
              "106317          NaN      NaN     NaN    Spellbound-Sunblaze        NaN  \n",
              "106318          NaN      NaN     NaN     Light Gray Heather        NaN  \n",
              "106323          NaN      NaN     NaN             Puma Black        NaN  \n",
              "\n",
              "[4682 rows x 45 columns]"
            ],
            "text/html": [
              "\n",
              "  <div id=\"df-190d695e-91ce-4f59-8317-755266e5d7a2\">\n",
              "    <div class=\"colab-df-container\">\n",
              "      <div>\n",
              "<style scoped>\n",
              "    .dataframe tbody tr th:only-of-type {\n",
              "        vertical-align: middle;\n",
              "    }\n",
              "\n",
              "    .dataframe tbody tr th {\n",
              "        vertical-align: top;\n",
              "    }\n",
              "\n",
              "    .dataframe thead th {\n",
              "        text-align: right;\n",
              "    }\n",
              "</style>\n",
              "<table border=\"1\" class=\"dataframe\">\n",
              "  <thead>\n",
              "    <tr style=\"text-align: right;\">\n",
              "      <th></th>\n",
              "      <th>Unnamed: 0</th>\n",
              "      <th>_id</th>\n",
              "      <th>Store</th>\n",
              "      <th>Url</th>\n",
              "      <th>Gender</th>\n",
              "      <th>ModifiedDate</th>\n",
              "      <th>ReviewNumber</th>\n",
              "      <th>AverageRating</th>\n",
              "      <th>Price</th>\n",
              "      <th>RatingTrack</th>\n",
              "      <th>...</th>\n",
              "      <th>ColorLock</th>\n",
              "      <th>AllColorRatio</th>\n",
              "      <th>ColorCode</th>\n",
              "      <th>ColorUpdatedCounter</th>\n",
              "      <th>ColorUpdatedDate</th>\n",
              "      <th>ColorVersion</th>\n",
              "      <th>NewColor</th>\n",
              "      <th>Pattern</th>\n",
              "      <th>ColorObj</th>\n",
              "      <th>NewArrival</th>\n",
              "    </tr>\n",
              "  </thead>\n",
              "  <tbody>\n",
              "    <tr>\n",
              "      <th>63</th>\n",
              "      <td>63</td>\n",
              "      <td>603d8e95a6175c957ca8ab7a</td>\n",
              "      <td>decathlon</td>\n",
              "      <td>https://www.decathlon.co.uk/p/fitness-leggings...</td>\n",
              "      <td>women</td>\n",
              "      <td>2021-07-11</td>\n",
              "      <td>3422.0</td>\n",
              "      <td>4.6</td>\n",
              "      <td>12.99</td>\n",
              "      <td>{'2021-07-11': {'AverageRating': None, 'Review...</td>\n",
              "      <td>...</td>\n",
              "      <td>NaN</td>\n",
              "      <td>NaN</td>\n",
              "      <td>NaN</td>\n",
              "      <td>NaN</td>\n",
              "      <td>NaN</td>\n",
              "      <td>NaN</td>\n",
              "      <td>NaN</td>\n",
              "      <td>NaN</td>\n",
              "      <td>NaN</td>\n",
              "      <td>NaN</td>\n",
              "    </tr>\n",
              "    <tr>\n",
              "      <th>129</th>\n",
              "      <td>129</td>\n",
              "      <td>603d8f0dc8eb83cdf2d33463</td>\n",
              "      <td>amazon-US</td>\n",
              "      <td>https://www.amazon.com/dp/B08XH6N3DR</td>\n",
              "      <td>women</td>\n",
              "      <td>2021-03-21</td>\n",
              "      <td>9189.0</td>\n",
              "      <td>4.4</td>\n",
              "      <td>24.99</td>\n",
              "      <td>{'2021-03-21': {'AverageRating': 4.4, 'ReviewN...</td>\n",
              "      <td>...</td>\n",
              "      <td>NaN</td>\n",
              "      <td>NaN</td>\n",
              "      <td>NaN</td>\n",
              "      <td>NaN</td>\n",
              "      <td>NaN</td>\n",
              "      <td>NaN</td>\n",
              "      <td>NaN</td>\n",
              "      <td>NaN</td>\n",
              "      <td>NaN</td>\n",
              "      <td>NaN</td>\n",
              "    </tr>\n",
              "    <tr>\n",
              "      <th>133</th>\n",
              "      <td>133</td>\n",
              "      <td>603d8f1fc8eb83cdf2d33464</td>\n",
              "      <td>amazon-US</td>\n",
              "      <td>https://www.amazon.com/dp/B08XBKVXRW</td>\n",
              "      <td>women</td>\n",
              "      <td>2021-02-28</td>\n",
              "      <td>1.0</td>\n",
              "      <td>1.0</td>\n",
              "      <td>13.89</td>\n",
              "      <td>{'2021-02-28': {'AverageRating': 1.0, 'ReviewN...</td>\n",
              "      <td>...</td>\n",
              "      <td>NaN</td>\n",
              "      <td>NaN</td>\n",
              "      <td>NaN</td>\n",
              "      <td>NaN</td>\n",
              "      <td>NaN</td>\n",
              "      <td>NaN</td>\n",
              "      <td>NaN</td>\n",
              "      <td>NaN</td>\n",
              "      <td>NaN</td>\n",
              "      <td>NaN</td>\n",
              "    </tr>\n",
              "    <tr>\n",
              "      <th>141</th>\n",
              "      <td>141</td>\n",
              "      <td>603d8f2e8671f3aa935645df</td>\n",
              "      <td>dicks</td>\n",
              "      <td>https://www.dickssportinggoods.com/p/adidas-wo...</td>\n",
              "      <td>NaN</td>\n",
              "      <td>2021-03-07</td>\n",
              "      <td>0.0</td>\n",
              "      <td>NaN</td>\n",
              "      <td>50.00</td>\n",
              "      <td>{'2021-02-28': {'AverageRating': None, 'Review...</td>\n",
              "      <td>...</td>\n",
              "      <td>NaN</td>\n",
              "      <td>NaN</td>\n",
              "      <td>NaN</td>\n",
              "      <td>NaN</td>\n",
              "      <td>NaN</td>\n",
              "      <td>NaN</td>\n",
              "      <td>NaN</td>\n",
              "      <td>NaN</td>\n",
              "      <td>NaN</td>\n",
              "      <td>NaN</td>\n",
              "    </tr>\n",
              "    <tr>\n",
              "      <th>156</th>\n",
              "      <td>156</td>\n",
              "      <td>603d8f3c50484d3a36559f6d</td>\n",
              "      <td>rei</td>\n",
              "      <td>https://www.rei.com/rei-garage/product/191636/...</td>\n",
              "      <td>women</td>\n",
              "      <td>2021-03-28</td>\n",
              "      <td>1.0</td>\n",
              "      <td>5.0</td>\n",
              "      <td>75.73</td>\n",
              "      <td>{'2021-02-28': {'RatingCount': 1.0, 'Rating': ...</td>\n",
              "      <td>...</td>\n",
              "      <td>NaN</td>\n",
              "      <td>NaN</td>\n",
              "      <td>NaN</td>\n",
              "      <td>NaN</td>\n",
              "      <td>NaN</td>\n",
              "      <td>NaN</td>\n",
              "      <td>NaN</td>\n",
              "      <td>NaN</td>\n",
              "      <td>NaN</td>\n",
              "      <td>NaN</td>\n",
              "    </tr>\n",
              "    <tr>\n",
              "      <th>...</th>\n",
              "      <td>...</td>\n",
              "      <td>...</td>\n",
              "      <td>...</td>\n",
              "      <td>...</td>\n",
              "      <td>...</td>\n",
              "      <td>...</td>\n",
              "      <td>...</td>\n",
              "      <td>...</td>\n",
              "      <td>...</td>\n",
              "      <td>...</td>\n",
              "      <td>...</td>\n",
              "      <td>...</td>\n",
              "      <td>...</td>\n",
              "      <td>...</td>\n",
              "      <td>...</td>\n",
              "      <td>...</td>\n",
              "      <td>...</td>\n",
              "      <td>...</td>\n",
              "      <td>...</td>\n",
              "      <td>...</td>\n",
              "      <td>...</td>\n",
              "    </tr>\n",
              "    <tr>\n",
              "      <th>106313</th>\n",
              "      <td>106313</td>\n",
              "      <td>62331f5d7a31776068e375e7</td>\n",
              "      <td>NaN</td>\n",
              "      <td>https://us.puma.com/us/en/pd/formknit-seamless...</td>\n",
              "      <td>women</td>\n",
              "      <td>2022-03-13</td>\n",
              "      <td>NaN</td>\n",
              "      <td>NaN</td>\n",
              "      <td>55.00</td>\n",
              "      <td>NaN</td>\n",
              "      <td>...</td>\n",
              "      <td>NaN</td>\n",
              "      <td>NaN</td>\n",
              "      <td>NaN</td>\n",
              "      <td>NaN</td>\n",
              "      <td>NaN</td>\n",
              "      <td>NaN</td>\n",
              "      <td>NaN</td>\n",
              "      <td>NaN</td>\n",
              "      <td>Nitro Blue-Puma White</td>\n",
              "      <td>NaN</td>\n",
              "    </tr>\n",
              "    <tr>\n",
              "      <th>106315</th>\n",
              "      <td>106315</td>\n",
              "      <td>62331f5d7a31776068e375e9</td>\n",
              "      <td>NaN</td>\n",
              "      <td>https://us.puma.com/us/en/pd/flawless-high-wai...</td>\n",
              "      <td>women</td>\n",
              "      <td>2022-03-13</td>\n",
              "      <td>NaN</td>\n",
              "      <td>NaN</td>\n",
              "      <td>70.00</td>\n",
              "      <td>NaN</td>\n",
              "      <td>...</td>\n",
              "      <td>NaN</td>\n",
              "      <td>NaN</td>\n",
              "      <td>NaN</td>\n",
              "      <td>NaN</td>\n",
              "      <td>NaN</td>\n",
              "      <td>NaN</td>\n",
              "      <td>NaN</td>\n",
              "      <td>NaN</td>\n",
              "      <td>Deep Orchid</td>\n",
              "      <td>NaN</td>\n",
              "    </tr>\n",
              "    <tr>\n",
              "      <th>106317</th>\n",
              "      <td>106317</td>\n",
              "      <td>62331f5e7a31776068e375eb</td>\n",
              "      <td>NaN</td>\n",
              "      <td>https://us.puma.com/us/en/pd/seamless-high-wai...</td>\n",
              "      <td>women</td>\n",
              "      <td>2022-03-13</td>\n",
              "      <td>3.0</td>\n",
              "      <td>4.7</td>\n",
              "      <td>55.00</td>\n",
              "      <td>NaN</td>\n",
              "      <td>...</td>\n",
              "      <td>NaN</td>\n",
              "      <td>NaN</td>\n",
              "      <td>NaN</td>\n",
              "      <td>NaN</td>\n",
              "      <td>NaN</td>\n",
              "      <td>NaN</td>\n",
              "      <td>NaN</td>\n",
              "      <td>NaN</td>\n",
              "      <td>Spellbound-Sunblaze</td>\n",
              "      <td>NaN</td>\n",
              "    </tr>\n",
              "    <tr>\n",
              "      <th>106318</th>\n",
              "      <td>106318</td>\n",
              "      <td>62331f5e7a31776068e375ec</td>\n",
              "      <td>NaN</td>\n",
              "      <td>https://us.puma.com/us/en/pd/studio-foundation...</td>\n",
              "      <td>women</td>\n",
              "      <td>2022-03-13</td>\n",
              "      <td>NaN</td>\n",
              "      <td>NaN</td>\n",
              "      <td>45.00</td>\n",
              "      <td>NaN</td>\n",
              "      <td>...</td>\n",
              "      <td>NaN</td>\n",
              "      <td>NaN</td>\n",
              "      <td>NaN</td>\n",
              "      <td>NaN</td>\n",
              "      <td>NaN</td>\n",
              "      <td>NaN</td>\n",
              "      <td>NaN</td>\n",
              "      <td>NaN</td>\n",
              "      <td>Light Gray Heather</td>\n",
              "      <td>NaN</td>\n",
              "    </tr>\n",
              "    <tr>\n",
              "      <th>106323</th>\n",
              "      <td>106323</td>\n",
              "      <td>62331f5e7a31776068e375f1</td>\n",
              "      <td>NaN</td>\n",
              "      <td>https://us.puma.com/us/en/pd/studio-ottoman-hi...</td>\n",
              "      <td>women</td>\n",
              "      <td>2022-03-13</td>\n",
              "      <td>NaN</td>\n",
              "      <td>NaN</td>\n",
              "      <td>70.00</td>\n",
              "      <td>NaN</td>\n",
              "      <td>...</td>\n",
              "      <td>NaN</td>\n",
              "      <td>NaN</td>\n",
              "      <td>NaN</td>\n",
              "      <td>NaN</td>\n",
              "      <td>NaN</td>\n",
              "      <td>NaN</td>\n",
              "      <td>NaN</td>\n",
              "      <td>NaN</td>\n",
              "      <td>Puma Black</td>\n",
              "      <td>NaN</td>\n",
              "    </tr>\n",
              "  </tbody>\n",
              "</table>\n",
              "<p>4682 rows × 45 columns</p>\n",
              "</div>\n",
              "      <button class=\"colab-df-convert\" onclick=\"convertToInteractive('df-190d695e-91ce-4f59-8317-755266e5d7a2')\"\n",
              "              title=\"Convert this dataframe to an interactive table.\"\n",
              "              style=\"display:none;\">\n",
              "        \n",
              "  <svg xmlns=\"http://www.w3.org/2000/svg\" height=\"24px\"viewBox=\"0 0 24 24\"\n",
              "       width=\"24px\">\n",
              "    <path d=\"M0 0h24v24H0V0z\" fill=\"none\"/>\n",
              "    <path d=\"M18.56 5.44l.94 2.06.94-2.06 2.06-.94-2.06-.94-.94-2.06-.94 2.06-2.06.94zm-11 1L8.5 8.5l.94-2.06 2.06-.94-2.06-.94L8.5 2.5l-.94 2.06-2.06.94zm10 10l.94 2.06.94-2.06 2.06-.94-2.06-.94-.94-2.06-.94 2.06-2.06.94z\"/><path d=\"M17.41 7.96l-1.37-1.37c-.4-.4-.92-.59-1.43-.59-.52 0-1.04.2-1.43.59L10.3 9.45l-7.72 7.72c-.78.78-.78 2.05 0 2.83L4 21.41c.39.39.9.59 1.41.59.51 0 1.02-.2 1.41-.59l7.78-7.78 2.81-2.81c.8-.78.8-2.07 0-2.86zM5.41 20L4 18.59l7.72-7.72 1.47 1.35L5.41 20z\"/>\n",
              "  </svg>\n",
              "      </button>\n",
              "      \n",
              "  <style>\n",
              "    .colab-df-container {\n",
              "      display:flex;\n",
              "      flex-wrap:wrap;\n",
              "      gap: 12px;\n",
              "    }\n",
              "\n",
              "    .colab-df-convert {\n",
              "      background-color: #E8F0FE;\n",
              "      border: none;\n",
              "      border-radius: 50%;\n",
              "      cursor: pointer;\n",
              "      display: none;\n",
              "      fill: #1967D2;\n",
              "      height: 32px;\n",
              "      padding: 0 0 0 0;\n",
              "      width: 32px;\n",
              "    }\n",
              "\n",
              "    .colab-df-convert:hover {\n",
              "      background-color: #E2EBFA;\n",
              "      box-shadow: 0px 1px 2px rgba(60, 64, 67, 0.3), 0px 1px 3px 1px rgba(60, 64, 67, 0.15);\n",
              "      fill: #174EA6;\n",
              "    }\n",
              "\n",
              "    [theme=dark] .colab-df-convert {\n",
              "      background-color: #3B4455;\n",
              "      fill: #D2E3FC;\n",
              "    }\n",
              "\n",
              "    [theme=dark] .colab-df-convert:hover {\n",
              "      background-color: #434B5C;\n",
              "      box-shadow: 0px 1px 3px 1px rgba(0, 0, 0, 0.15);\n",
              "      filter: drop-shadow(0px 1px 2px rgba(0, 0, 0, 0.3));\n",
              "      fill: #FFFFFF;\n",
              "    }\n",
              "  </style>\n",
              "\n",
              "      <script>\n",
              "        const buttonEl =\n",
              "          document.querySelector('#df-190d695e-91ce-4f59-8317-755266e5d7a2 button.colab-df-convert');\n",
              "        buttonEl.style.display =\n",
              "          google.colab.kernel.accessAllowed ? 'block' : 'none';\n",
              "\n",
              "        async function convertToInteractive(key) {\n",
              "          const element = document.querySelector('#df-190d695e-91ce-4f59-8317-755266e5d7a2');\n",
              "          const dataTable =\n",
              "            await google.colab.kernel.invokeFunction('convertToInteractive',\n",
              "                                                     [key], {});\n",
              "          if (!dataTable) return;\n",
              "\n",
              "          const docLinkHtml = 'Like what you see? Visit the ' +\n",
              "            '<a target=\"_blank\" href=https://colab.research.google.com/notebooks/data_table.ipynb>data table notebook</a>'\n",
              "            + ' to learn more about interactive tables.';\n",
              "          element.innerHTML = '';\n",
              "          dataTable['output_type'] = 'display_data';\n",
              "          await google.colab.output.renderOutput(dataTable, element);\n",
              "          const docLink = document.createElement('div');\n",
              "          docLink.innerHTML = docLinkHtml;\n",
              "          element.appendChild(docLink);\n",
              "        }\n",
              "      </script>\n",
              "    </div>\n",
              "  </div>\n",
              "  "
            ]
          },
          "metadata": {},
          "execution_count": 41
        }
      ]
    },
    {
      "cell_type": "code",
      "source": [
        "# Preprocess\n",
        "\n",
        "data_E = df_E[feature_cols]\n",
        "data_P = df_P[feature_cols]\n",
        "data_E['is_topSales'] = [1]*data_E.shape[0]\n",
        "data_P['is_topSales'] = [0]*data_P.shape[0]\n",
        "data = pd.concat([data_E, data_P])\n",
        "data = data.reset_index()\n",
        "data_x = data[feature_cols]\n",
        "data_y = data['is_topSales']\n",
        "if 'Price' in data_x.columns:\n",
        "    data_x['Price'] = data_x['Price'].fillna(data_x['Price'].mean())\n",
        "data_x = data_x.fillna('[\\'nan\\']')"
      ],
      "metadata": {
        "colab": {
          "base_uri": "https://localhost:8080/"
        },
        "id": "Aikf-ndCdArp",
        "outputId": "f209610c-0d60-4f8b-ee06-c5d204031ee9"
      },
      "execution_count": null,
      "outputs": [
        {
          "output_type": "stream",
          "name": "stderr",
          "text": [
            "/usr/local/lib/python3.7/dist-packages/ipykernel_launcher.py:5: SettingWithCopyWarning: \n",
            "A value is trying to be set on a copy of a slice from a DataFrame.\n",
            "Try using .loc[row_indexer,col_indexer] = value instead\n",
            "\n",
            "See the caveats in the documentation: https://pandas.pydata.org/pandas-docs/stable/user_guide/indexing.html#returning-a-view-versus-a-copy\n",
            "  \"\"\"\n",
            "/usr/local/lib/python3.7/dist-packages/ipykernel_launcher.py:6: SettingWithCopyWarning: \n",
            "A value is trying to be set on a copy of a slice from a DataFrame.\n",
            "Try using .loc[row_indexer,col_indexer] = value instead\n",
            "\n",
            "See the caveats in the documentation: https://pandas.pydata.org/pandas-docs/stable/user_guide/indexing.html#returning-a-view-versus-a-copy\n",
            "  \n"
          ]
        }
      ]
    },
    {
      "cell_type": "code",
      "source": [
        "# Preprocess 2\n",
        "import ast \n",
        "feature_strList_cols = []\n",
        "other_feature_cols = []\n",
        "for col in feature_cols:\n",
        "    if col in strList_cols:\n",
        "        feature_strList_cols.append(col)\n",
        "        data_x[col] = data_x[col].apply(ast.literal_eval)\n",
        "    else:\n",
        "        other_feature_cols.append(col)"
      ],
      "metadata": {
        "id": "9_1xT7cwyYhT"
      },
      "execution_count": null,
      "outputs": []
    },
    {
      "cell_type": "code",
      "source": [
        "# Preprocess 3\n",
        "from sklearn.preprocessing import MultiLabelBinarizer\n",
        "mlb_list = []\n",
        "df_list = [data_x[other_feature_cols]]\n",
        "for col in feature_strList_cols:\n",
        "    mlb = MultiLabelBinarizer()\n",
        "    df = pd.DataFrame(mlb.fit_transform(data_x[col]),columns=mlb.classes_)\n",
        "    df_list.append(df)\n",
        "data_x = pd.concat(df_list, axis=1)"
      ],
      "metadata": {
        "id": "6AI0xF8cyzQW"
      },
      "execution_count": null,
      "outputs": []
    },
    {
      "cell_type": "code",
      "source": [
        "data_x"
      ],
      "metadata": {
        "colab": {
          "base_uri": "https://localhost:8080/",
          "height": 520
        },
        "id": "7OqeRDjj06Tr",
        "outputId": "de527fd1-68f2-456a-901f-35530e6ca502"
      },
      "execution_count": null,
      "outputs": [
        {
          "output_type": "execute_result",
          "data": {
            "text/plain": [
              "         Athleisure  一體成型  人體工學舒適設計  保暖禦寒  刷毛布  化纖素材  反光功能  單向導溼快乾  四面彈  ...  \\\n",
              "0     0           0     0         0     0    0     0     0       1    0  ...   \n",
              "1     0           0     0         0     0    0     0     0       0    0  ...   \n",
              "2     0           0     0         0     0    0     0     0       0    0  ...   \n",
              "3     0           0     0         0     0    0     0     0       0    0  ...   \n",
              "4     0           0     0         0     0    0     0     0       0    0  ...   \n",
              "...  ..         ...   ...       ...   ...  ...   ...   ...     ...  ...  ...   \n",
              "4677  0           0     1         0     0    0     0     0       1    0  ...   \n",
              "4678  0           0     0         0     0    0     0     0       1    0  ...   \n",
              "4679  0           0     1         0     0    0     0     0       1    0  ...   \n",
              "4680  0           0     0         1     0    0     0     0       0    0  ...   \n",
              "4681  0           0     0         0     0    0     0     0       1    0  ...   \n",
              "\n",
              "      Recycled Polyester & Blended  Recycled Polyester / PET  Silk  \\\n",
              "0                                0                         0     0   \n",
              "1                                0                         0     0   \n",
              "2                                0                         0     0   \n",
              "3                                0                         0     0   \n",
              "4                                0                         0     0   \n",
              "...                            ...                       ...   ...   \n",
              "4677                             0                         0     0   \n",
              "4678                             0                         0     0   \n",
              "4679                             0                         0     0   \n",
              "4680                             0                         0     0   \n",
              "4681                             0                         0     0   \n",
              "\n",
              "      Spandex 11~20%  Spandex <= 10%  Spandex >= 21%  \\\n",
              "0                  0               0               0   \n",
              "1                  0               0               0   \n",
              "2                  0               0               0   \n",
              "3                  0               0               0   \n",
              "4                  0               0               1   \n",
              "...              ...             ...             ...   \n",
              "4677               1               0               0   \n",
              "4678               0               1               0   \n",
              "4679               1               0               0   \n",
              "4680               1               0               0   \n",
              "4681               1               1               1   \n",
              "\n",
              "      WICKING. Pulls sweat away from the body to the surface of the fabric so it can evaporate faster  \\\n",
              "0                                                     0                                                 \n",
              "1                                                     0                                                 \n",
              "2                                                     0                                                 \n",
              "3                                                     0                                                 \n",
              "4                                                     0                                                 \n",
              "...                                                 ...                                                 \n",
              "4677                                                  0                                                 \n",
              "4678                                                  0                                                 \n",
              "4679                                                  0                                                 \n",
              "4680                                                  0                                                 \n",
              "4681                                                  0                                                 \n",
              "\n",
              "      Wool Blended  all/any Spandex  nan  \n",
              "0                0                0    0  \n",
              "1                0                0    1  \n",
              "2                0                0    1  \n",
              "3                0                0    1  \n",
              "4                0                1    0  \n",
              "...            ...              ...  ...  \n",
              "4677             0                1    0  \n",
              "4678             0                1    0  \n",
              "4679             0                1    0  \n",
              "4680             0                1    0  \n",
              "4681             0                1    0  \n",
              "\n",
              "[4682 rows x 61 columns]"
            ],
            "text/html": [
              "\n",
              "  <div id=\"df-2f840e83-f823-453f-b2c6-f06743c5f2ed\">\n",
              "    <div class=\"colab-df-container\">\n",
              "      <div>\n",
              "<style scoped>\n",
              "    .dataframe tbody tr th:only-of-type {\n",
              "        vertical-align: middle;\n",
              "    }\n",
              "\n",
              "    .dataframe tbody tr th {\n",
              "        vertical-align: top;\n",
              "    }\n",
              "\n",
              "    .dataframe thead th {\n",
              "        text-align: right;\n",
              "    }\n",
              "</style>\n",
              "<table border=\"1\" class=\"dataframe\">\n",
              "  <thead>\n",
              "    <tr style=\"text-align: right;\">\n",
              "      <th></th>\n",
              "      <th></th>\n",
              "      <th>Athleisure</th>\n",
              "      <th>一體成型</th>\n",
              "      <th>人體工學舒適設計</th>\n",
              "      <th>保暖禦寒</th>\n",
              "      <th>刷毛布</th>\n",
              "      <th>化纖素材</th>\n",
              "      <th>反光功能</th>\n",
              "      <th>單向導溼快乾</th>\n",
              "      <th>四面彈</th>\n",
              "      <th>...</th>\n",
              "      <th>Recycled Polyester &amp; Blended</th>\n",
              "      <th>Recycled Polyester / PET</th>\n",
              "      <th>Silk</th>\n",
              "      <th>Spandex 11~20%</th>\n",
              "      <th>Spandex &lt;= 10%</th>\n",
              "      <th>Spandex &gt;= 21%</th>\n",
              "      <th>WICKING. Pulls sweat away from the body to the surface of the fabric so it can evaporate faster</th>\n",
              "      <th>Wool Blended</th>\n",
              "      <th>all/any Spandex</th>\n",
              "      <th>nan</th>\n",
              "    </tr>\n",
              "  </thead>\n",
              "  <tbody>\n",
              "    <tr>\n",
              "      <th>0</th>\n",
              "      <td>0</td>\n",
              "      <td>0</td>\n",
              "      <td>0</td>\n",
              "      <td>0</td>\n",
              "      <td>0</td>\n",
              "      <td>0</td>\n",
              "      <td>0</td>\n",
              "      <td>0</td>\n",
              "      <td>1</td>\n",
              "      <td>0</td>\n",
              "      <td>...</td>\n",
              "      <td>0</td>\n",
              "      <td>0</td>\n",
              "      <td>0</td>\n",
              "      <td>0</td>\n",
              "      <td>0</td>\n",
              "      <td>0</td>\n",
              "      <td>0</td>\n",
              "      <td>0</td>\n",
              "      <td>0</td>\n",
              "      <td>0</td>\n",
              "    </tr>\n",
              "    <tr>\n",
              "      <th>1</th>\n",
              "      <td>0</td>\n",
              "      <td>0</td>\n",
              "      <td>0</td>\n",
              "      <td>0</td>\n",
              "      <td>0</td>\n",
              "      <td>0</td>\n",
              "      <td>0</td>\n",
              "      <td>0</td>\n",
              "      <td>0</td>\n",
              "      <td>0</td>\n",
              "      <td>...</td>\n",
              "      <td>0</td>\n",
              "      <td>0</td>\n",
              "      <td>0</td>\n",
              "      <td>0</td>\n",
              "      <td>0</td>\n",
              "      <td>0</td>\n",
              "      <td>0</td>\n",
              "      <td>0</td>\n",
              "      <td>0</td>\n",
              "      <td>1</td>\n",
              "    </tr>\n",
              "    <tr>\n",
              "      <th>2</th>\n",
              "      <td>0</td>\n",
              "      <td>0</td>\n",
              "      <td>0</td>\n",
              "      <td>0</td>\n",
              "      <td>0</td>\n",
              "      <td>0</td>\n",
              "      <td>0</td>\n",
              "      <td>0</td>\n",
              "      <td>0</td>\n",
              "      <td>0</td>\n",
              "      <td>...</td>\n",
              "      <td>0</td>\n",
              "      <td>0</td>\n",
              "      <td>0</td>\n",
              "      <td>0</td>\n",
              "      <td>0</td>\n",
              "      <td>0</td>\n",
              "      <td>0</td>\n",
              "      <td>0</td>\n",
              "      <td>0</td>\n",
              "      <td>1</td>\n",
              "    </tr>\n",
              "    <tr>\n",
              "      <th>3</th>\n",
              "      <td>0</td>\n",
              "      <td>0</td>\n",
              "      <td>0</td>\n",
              "      <td>0</td>\n",
              "      <td>0</td>\n",
              "      <td>0</td>\n",
              "      <td>0</td>\n",
              "      <td>0</td>\n",
              "      <td>0</td>\n",
              "      <td>0</td>\n",
              "      <td>...</td>\n",
              "      <td>0</td>\n",
              "      <td>0</td>\n",
              "      <td>0</td>\n",
              "      <td>0</td>\n",
              "      <td>0</td>\n",
              "      <td>0</td>\n",
              "      <td>0</td>\n",
              "      <td>0</td>\n",
              "      <td>0</td>\n",
              "      <td>1</td>\n",
              "    </tr>\n",
              "    <tr>\n",
              "      <th>4</th>\n",
              "      <td>0</td>\n",
              "      <td>0</td>\n",
              "      <td>0</td>\n",
              "      <td>0</td>\n",
              "      <td>0</td>\n",
              "      <td>0</td>\n",
              "      <td>0</td>\n",
              "      <td>0</td>\n",
              "      <td>0</td>\n",
              "      <td>0</td>\n",
              "      <td>...</td>\n",
              "      <td>0</td>\n",
              "      <td>0</td>\n",
              "      <td>0</td>\n",
              "      <td>0</td>\n",
              "      <td>0</td>\n",
              "      <td>1</td>\n",
              "      <td>0</td>\n",
              "      <td>0</td>\n",
              "      <td>1</td>\n",
              "      <td>0</td>\n",
              "    </tr>\n",
              "    <tr>\n",
              "      <th>...</th>\n",
              "      <td>...</td>\n",
              "      <td>...</td>\n",
              "      <td>...</td>\n",
              "      <td>...</td>\n",
              "      <td>...</td>\n",
              "      <td>...</td>\n",
              "      <td>...</td>\n",
              "      <td>...</td>\n",
              "      <td>...</td>\n",
              "      <td>...</td>\n",
              "      <td>...</td>\n",
              "      <td>...</td>\n",
              "      <td>...</td>\n",
              "      <td>...</td>\n",
              "      <td>...</td>\n",
              "      <td>...</td>\n",
              "      <td>...</td>\n",
              "      <td>...</td>\n",
              "      <td>...</td>\n",
              "      <td>...</td>\n",
              "      <td>...</td>\n",
              "    </tr>\n",
              "    <tr>\n",
              "      <th>4677</th>\n",
              "      <td>0</td>\n",
              "      <td>0</td>\n",
              "      <td>1</td>\n",
              "      <td>0</td>\n",
              "      <td>0</td>\n",
              "      <td>0</td>\n",
              "      <td>0</td>\n",
              "      <td>0</td>\n",
              "      <td>1</td>\n",
              "      <td>0</td>\n",
              "      <td>...</td>\n",
              "      <td>0</td>\n",
              "      <td>0</td>\n",
              "      <td>0</td>\n",
              "      <td>1</td>\n",
              "      <td>0</td>\n",
              "      <td>0</td>\n",
              "      <td>0</td>\n",
              "      <td>0</td>\n",
              "      <td>1</td>\n",
              "      <td>0</td>\n",
              "    </tr>\n",
              "    <tr>\n",
              "      <th>4678</th>\n",
              "      <td>0</td>\n",
              "      <td>0</td>\n",
              "      <td>0</td>\n",
              "      <td>0</td>\n",
              "      <td>0</td>\n",
              "      <td>0</td>\n",
              "      <td>0</td>\n",
              "      <td>0</td>\n",
              "      <td>1</td>\n",
              "      <td>0</td>\n",
              "      <td>...</td>\n",
              "      <td>0</td>\n",
              "      <td>0</td>\n",
              "      <td>0</td>\n",
              "      <td>0</td>\n",
              "      <td>1</td>\n",
              "      <td>0</td>\n",
              "      <td>0</td>\n",
              "      <td>0</td>\n",
              "      <td>1</td>\n",
              "      <td>0</td>\n",
              "    </tr>\n",
              "    <tr>\n",
              "      <th>4679</th>\n",
              "      <td>0</td>\n",
              "      <td>0</td>\n",
              "      <td>1</td>\n",
              "      <td>0</td>\n",
              "      <td>0</td>\n",
              "      <td>0</td>\n",
              "      <td>0</td>\n",
              "      <td>0</td>\n",
              "      <td>1</td>\n",
              "      <td>0</td>\n",
              "      <td>...</td>\n",
              "      <td>0</td>\n",
              "      <td>0</td>\n",
              "      <td>0</td>\n",
              "      <td>1</td>\n",
              "      <td>0</td>\n",
              "      <td>0</td>\n",
              "      <td>0</td>\n",
              "      <td>0</td>\n",
              "      <td>1</td>\n",
              "      <td>0</td>\n",
              "    </tr>\n",
              "    <tr>\n",
              "      <th>4680</th>\n",
              "      <td>0</td>\n",
              "      <td>0</td>\n",
              "      <td>0</td>\n",
              "      <td>1</td>\n",
              "      <td>0</td>\n",
              "      <td>0</td>\n",
              "      <td>0</td>\n",
              "      <td>0</td>\n",
              "      <td>0</td>\n",
              "      <td>0</td>\n",
              "      <td>...</td>\n",
              "      <td>0</td>\n",
              "      <td>0</td>\n",
              "      <td>0</td>\n",
              "      <td>1</td>\n",
              "      <td>0</td>\n",
              "      <td>0</td>\n",
              "      <td>0</td>\n",
              "      <td>0</td>\n",
              "      <td>1</td>\n",
              "      <td>0</td>\n",
              "    </tr>\n",
              "    <tr>\n",
              "      <th>4681</th>\n",
              "      <td>0</td>\n",
              "      <td>0</td>\n",
              "      <td>0</td>\n",
              "      <td>0</td>\n",
              "      <td>0</td>\n",
              "      <td>0</td>\n",
              "      <td>0</td>\n",
              "      <td>0</td>\n",
              "      <td>1</td>\n",
              "      <td>0</td>\n",
              "      <td>...</td>\n",
              "      <td>0</td>\n",
              "      <td>0</td>\n",
              "      <td>0</td>\n",
              "      <td>1</td>\n",
              "      <td>1</td>\n",
              "      <td>1</td>\n",
              "      <td>0</td>\n",
              "      <td>0</td>\n",
              "      <td>1</td>\n",
              "      <td>0</td>\n",
              "    </tr>\n",
              "  </tbody>\n",
              "</table>\n",
              "<p>4682 rows × 61 columns</p>\n",
              "</div>\n",
              "      <button class=\"colab-df-convert\" onclick=\"convertToInteractive('df-2f840e83-f823-453f-b2c6-f06743c5f2ed')\"\n",
              "              title=\"Convert this dataframe to an interactive table.\"\n",
              "              style=\"display:none;\">\n",
              "        \n",
              "  <svg xmlns=\"http://www.w3.org/2000/svg\" height=\"24px\"viewBox=\"0 0 24 24\"\n",
              "       width=\"24px\">\n",
              "    <path d=\"M0 0h24v24H0V0z\" fill=\"none\"/>\n",
              "    <path d=\"M18.56 5.44l.94 2.06.94-2.06 2.06-.94-2.06-.94-.94-2.06-.94 2.06-2.06.94zm-11 1L8.5 8.5l.94-2.06 2.06-.94-2.06-.94L8.5 2.5l-.94 2.06-2.06.94zm10 10l.94 2.06.94-2.06 2.06-.94-2.06-.94-.94-2.06-.94 2.06-2.06.94z\"/><path d=\"M17.41 7.96l-1.37-1.37c-.4-.4-.92-.59-1.43-.59-.52 0-1.04.2-1.43.59L10.3 9.45l-7.72 7.72c-.78.78-.78 2.05 0 2.83L4 21.41c.39.39.9.59 1.41.59.51 0 1.02-.2 1.41-.59l7.78-7.78 2.81-2.81c.8-.78.8-2.07 0-2.86zM5.41 20L4 18.59l7.72-7.72 1.47 1.35L5.41 20z\"/>\n",
              "  </svg>\n",
              "      </button>\n",
              "      \n",
              "  <style>\n",
              "    .colab-df-container {\n",
              "      display:flex;\n",
              "      flex-wrap:wrap;\n",
              "      gap: 12px;\n",
              "    }\n",
              "\n",
              "    .colab-df-convert {\n",
              "      background-color: #E8F0FE;\n",
              "      border: none;\n",
              "      border-radius: 50%;\n",
              "      cursor: pointer;\n",
              "      display: none;\n",
              "      fill: #1967D2;\n",
              "      height: 32px;\n",
              "      padding: 0 0 0 0;\n",
              "      width: 32px;\n",
              "    }\n",
              "\n",
              "    .colab-df-convert:hover {\n",
              "      background-color: #E2EBFA;\n",
              "      box-shadow: 0px 1px 2px rgba(60, 64, 67, 0.3), 0px 1px 3px 1px rgba(60, 64, 67, 0.15);\n",
              "      fill: #174EA6;\n",
              "    }\n",
              "\n",
              "    [theme=dark] .colab-df-convert {\n",
              "      background-color: #3B4455;\n",
              "      fill: #D2E3FC;\n",
              "    }\n",
              "\n",
              "    [theme=dark] .colab-df-convert:hover {\n",
              "      background-color: #434B5C;\n",
              "      box-shadow: 0px 1px 3px 1px rgba(0, 0, 0, 0.15);\n",
              "      filter: drop-shadow(0px 1px 2px rgba(0, 0, 0, 0.3));\n",
              "      fill: #FFFFFF;\n",
              "    }\n",
              "  </style>\n",
              "\n",
              "      <script>\n",
              "        const buttonEl =\n",
              "          document.querySelector('#df-2f840e83-f823-453f-b2c6-f06743c5f2ed button.colab-df-convert');\n",
              "        buttonEl.style.display =\n",
              "          google.colab.kernel.accessAllowed ? 'block' : 'none';\n",
              "\n",
              "        async function convertToInteractive(key) {\n",
              "          const element = document.querySelector('#df-2f840e83-f823-453f-b2c6-f06743c5f2ed');\n",
              "          const dataTable =\n",
              "            await google.colab.kernel.invokeFunction('convertToInteractive',\n",
              "                                                     [key], {});\n",
              "          if (!dataTable) return;\n",
              "\n",
              "          const docLinkHtml = 'Like what you see? Visit the ' +\n",
              "            '<a target=\"_blank\" href=https://colab.research.google.com/notebooks/data_table.ipynb>data table notebook</a>'\n",
              "            + ' to learn more about interactive tables.';\n",
              "          element.innerHTML = '';\n",
              "          dataTable['output_type'] = 'display_data';\n",
              "          await google.colab.output.renderOutput(dataTable, element);\n",
              "          const docLink = document.createElement('div');\n",
              "          docLink.innerHTML = docLinkHtml;\n",
              "          element.appendChild(docLink);\n",
              "        }\n",
              "      </script>\n",
              "    </div>\n",
              "  </div>\n",
              "  "
            ]
          },
          "metadata": {},
          "execution_count": 48
        }
      ]
    },
    {
      "cell_type": "code",
      "source": [
        "# EDA"
      ],
      "metadata": {
        "id": "sRmO4KQ-0CJG"
      },
      "execution_count": null,
      "outputs": []
    },
    {
      "cell_type": "code",
      "source": [
        "import matplotlib.pyplot as plt\n",
        "import seaborn as sns"
      ],
      "metadata": {
        "id": "S_nUBD0y0hhS"
      },
      "execution_count": null,
      "outputs": []
    },
    {
      "cell_type": "code",
      "source": [
        "data_y[data_x['all/any Spandex']==1].value_counts()"
      ],
      "metadata": {
        "colab": {
          "base_uri": "https://localhost:8080/"
        },
        "id": "OQ-q_Iw61y2b",
        "outputId": "5bbdfd17-b6d8-473c-c9bb-b037f59c5611"
      },
      "execution_count": null,
      "outputs": [
        {
          "output_type": "execute_result",
          "data": {
            "text/plain": [
              "0    1653\n",
              "1     323\n",
              "Name: is_topSales, dtype: int64"
            ]
          },
          "metadata": {},
          "execution_count": 60
        }
      ]
    },
    {
      "cell_type": "code",
      "source": [
        "data_y[data_x['all/any Spandex']==0].value_counts()"
      ],
      "metadata": {
        "colab": {
          "base_uri": "https://localhost:8080/"
        },
        "id": "EKfOq-TL-VdR",
        "outputId": "d274e571-ef1c-40c4-bf4e-013a4923db20"
      },
      "execution_count": null,
      "outputs": [
        {
          "output_type": "execute_result",
          "data": {
            "text/plain": [
              "1    2688\n",
              "0      18\n",
              "Name: is_topSales, dtype: int64"
            ]
          },
          "metadata": {},
          "execution_count": 86
        }
      ]
    },
    {
      "cell_type": "code",
      "source": [
        "f,ax=plt.subplots(1,2,figsize=(16,7))\n",
        "data_y[data_x['all/any Spandex']==1].value_counts().plot.pie(explode=[0,0.2],autopct='%1.1f%%',ax=ax[0],shadow=True)\n",
        "data_y[data_x['all/any Spandex']==0].value_counts().plot.pie(explode=[0,0.2],autopct='%1.1f%%',ax=ax[1],shadow=True)\n",
        "ax[0].set_title('Sales (all/any Spandex)')\n",
        "ax[1].set_title('Sales (No Spandex)')\n",
        "\n",
        "plt.show()"
      ],
      "metadata": {
        "colab": {
          "base_uri": "https://localhost:8080/",
          "height": 427
        },
        "id": "OUalRzZ10krQ",
        "outputId": "75cbaa30-6b06-4a48-d19e-d5d82c926902"
      },
      "execution_count": null,
      "outputs": [
        {
          "output_type": "display_data",
          "data": {
            "text/plain": [
              "<Figure size 1152x504 with 2 Axes>"
            ],
            "image/png": "[encoded data removed]"
          },
          "metadata": {}
        }
      ]
    },
    {
      "cell_type": "code",
      "source": [
        "f,ax=plt.subplots(1,2,figsize=(16,7))\n",
        "data_y[data_x['Recycled Polyester / PET']==1].value_counts().plot.pie(explode=[0,0.2],autopct='%1.1f%%',ax=ax[0],shadow=True)\n",
        "data_y[data_x['Recycled Polyester / PET']==0].value_counts().plot.pie(explode=[0,0.2],autopct='%1.1f%%',ax=ax[1],shadow=True)\n",
        "ax[0].set_title('Sales (Recycled P)')\n",
        "ax[1].set_title('Sales (No Recycled P)')\n",
        "\n",
        "plt.show()"
      ],
      "metadata": {
        "colab": {
          "base_uri": "https://localhost:8080/",
          "height": 427
        },
        "id": "u0k_0wic3O53",
        "outputId": "08f086ab-1d7e-48e2-d609-65c6cce28493"
      },
      "execution_count": null,
      "outputs": [
        {
          "output_type": "display_data",
          "data": {
            "text/plain": [
              "<Figure size 1152x504 with 2 Axes>"
            ],
            "image/png": "[encoded data removed]"
          },
          "metadata": {}
        }
      ]
    },
    {
      "cell_type": "code",
      "source": [
        "f,ax=plt.subplots(1,2,figsize=(16,7))\n",
        "data_y[data_x['環保訴求']==1].value_counts().plot.pie(explode=[0,0.2],autopct='%1.1f%%',ax=ax[0],shadow=True)\n",
        "data_y[data_x['環保訴求']==0].value_counts().plot.pie(explode=[0,0.2],autopct='%1.1f%%',ax=ax[1],shadow=True)\n",
        "ax[0].set_title('Sales (eco)')\n",
        "ax[1].set_title('Sales (No eco)')\n",
        "\n",
        "plt.show()"
      ],
      "metadata": {
        "colab": {
          "base_uri": "https://localhost:8080/",
          "height": 427
        },
        "id": "b8S3vV1w33_D",
        "outputId": "3bdc7db1-8322-4e10-a13f-ef4c7860577b"
      },
      "execution_count": null,
      "outputs": [
        {
          "output_type": "display_data",
          "data": {
            "text/plain": [
              "<Figure size 1152x504 with 2 Axes>"
            ],
            "image/png": "[encoded data removed]"
          },
          "metadata": {}
        }
      ]
    },
    {
      "cell_type": "code",
      "source": [
        "RATED UPF 50+ (Excellent Protection)"
      ],
      "metadata": {
        "id": "XZe70pKZ9aez"
      },
      "execution_count": null,
      "outputs": []
    },
    {
      "cell_type": "code",
      "source": [
        "data_x.columns"
      ],
      "metadata": {
        "colab": {
          "base_uri": "https://localhost:8080/"
        },
        "id": "RTz1sgA99iDl",
        "outputId": "382cb4af-94be-4d8f-807f-cec8db6442b5"
      },
      "execution_count": null,
      "outputs": [
        {
          "output_type": "execute_result",
          "data": {
            "text/plain": [
              "Index(['', 'Athleisure', '一體成型', '人體工學舒適設計', '保暖禦寒', '刷毛布', '化纖素材', '反光功能',\n",
              "       '單向導溼快乾', '四面彈', '抗紫外線', '抗菌功能', '接觸涼感(金屬類)', '提升運動效能設計', '撥水', '數位印花',\n",
              "       '梭織彈性', '涼爽透氣', '溫度調節', '溼度管理', '環保訴求', '異味控制', '結構性透氣', '羽絨', '肌肉支持',\n",
              "       '舒適伸展', '舒適平滑縫合', '蒸發性涼感', '超輕量', '輕量', '透濕', '防水', '防風機能',\n",
              "       '100% Cotton', '100% Polyamide(Nylon)', '100% Polyester', '100% Wool',\n",
              "       'BREATHABLE. Sweat can easily move through the fabric, helping it evaporate',\n",
              "       'Cotton Blended', 'Green Cellulose', 'Hemp Blended', 'Modal Blended',\n",
              "       'PTT', 'Polyamide(Nylon) Blended', 'Polyester Blended',\n",
              "       'QUICK&#45DRYING. Dries in a flash for ultimate comfort when breaking a sweat',\n",
              "       'RATED UPF 50+ (Excellent Protection)', 'Recycled Cotton',\n",
              "       'Recycled Cotton & Blended', 'Recycled Polyamide(Nylon) & Blended',\n",
              "       'Recycled Polyamide/ Nylon / PA', 'Recycled Polyester & Blended',\n",
              "       'Recycled Polyester / PET', 'Silk', 'Spandex 11~20%', 'Spandex <= 10%',\n",
              "       'Spandex >= 21%',\n",
              "       'WICKING. Pulls sweat away from the body to the surface of the fabric so it can evaporate faster',\n",
              "       'Wool Blended', 'all/any Spandex', 'nan'],\n",
              "      dtype='object')"
            ]
          },
          "metadata": {},
          "execution_count": 80
        }
      ]
    },
    {
      "cell_type": "code",
      "source": [
        "data_y[data_x['RATED UPF 50+ (Excellent Protection)']==1].value_counts()"
      ],
      "metadata": {
        "colab": {
          "base_uri": "https://localhost:8080/"
        },
        "id": "p510tsEA9rpq",
        "outputId": "14106412-73c0-417b-846d-eddcc56ad146"
      },
      "execution_count": null,
      "outputs": [
        {
          "output_type": "execute_result",
          "data": {
            "text/plain": [
              "0    2\n",
              "Name: is_topSales, dtype: int64"
            ]
          },
          "metadata": {},
          "execution_count": 84
        }
      ]
    },
    {
      "cell_type": "code",
      "source": [
        "data_y"
      ],
      "metadata": {
        "colab": {
          "base_uri": "https://localhost:8080/"
        },
        "id": "7JjWAfKt16jf",
        "outputId": "b9940ed3-1df7-4c05-ca82-f475342c1f2a"
      },
      "execution_count": null,
      "outputs": [
        {
          "output_type": "execute_result",
          "data": {
            "text/plain": [
              "0       1\n",
              "1       1\n",
              "2       1\n",
              "3       1\n",
              "4       1\n",
              "       ..\n",
              "4677    0\n",
              "4678    0\n",
              "4679    0\n",
              "4680    0\n",
              "4681    0\n",
              "Name: is_topSales, Length: 4682, dtype: int64"
            ]
          },
          "metadata": {},
          "execution_count": 59
        }
      ]
    },
    {
      "cell_type": "code",
      "source": [
        "# Model training \n",
        "from sklearn.model_selection import cross_val_score\n",
        "from sklearn.tree import DecisionTreeClassifier\n",
        "from sklearn import tree\n",
        "from sklearn.model_selection import train_test_split\n",
        "X_train, X_test, y_train, y_test = train_test_split(data_x, data_y, test_size=0.33, random_state=42)\n",
        "clf = DecisionTreeClassifier(max_depth = 3,random_state=0)\n",
        "clf = clf.fit(X_train, y_train)\n"
      ],
      "metadata": {
        "id": "qombEgUQ8Kge"
      },
      "execution_count": null,
      "outputs": []
    },
    {
      "cell_type": "code",
      "source": [
        "clf.score(X_test, y_test)"
      ],
      "metadata": {
        "colab": {
          "base_uri": "https://localhost:8080/"
        },
        "id": "gyCL5Lt32LxR",
        "outputId": "fcd7dec2-513f-4995-ba22-bbe3167d83d0"
      },
      "execution_count": null,
      "outputs": [
        {
          "output_type": "execute_result",
          "data": {
            "text/plain": [
              "0.9353169469598965"
            ]
          },
          "metadata": {},
          "execution_count": 54
        }
      ]
    },
    {
      "cell_type": "code",
      "source": [
        "ls = data_x.columns\n",
        "ls_new = []\n",
        "for i in range(len(ls)):\n",
        "    s = ls[i]\n",
        "    if len(s) > 350:\n",
        "        ls_new.append(str(s)[:350])\n",
        "    else:\n",
        "        ls_new.append(s)\n"
      ],
      "metadata": {
        "id": "sGXxQAVY42GW"
      },
      "execution_count": null,
      "outputs": []
    },
    {
      "cell_type": "code",
      "source": [
        "import graphviz \n",
        "\n",
        "dot_data = tree.export_graphviz(clf, out_file=None\n",
        "                , feature_names=ls_new,  class_names=['0','1'],\n",
        "                filled=True, rounded=True,  special_characters=True)  \n",
        "graph = graphviz.Source(dot_data) \n",
        "graph.render(\"leggings\") "
      ],
      "metadata": {
        "colab": {
          "base_uri": "https://localhost:8080/",
          "height": 35
        },
        "id": "zkYhHrit2_J2",
        "outputId": "69629803-68b2-4b4b-d3b4-ec8412628221"
      },
      "execution_count": null,
      "outputs": [
        {
          "output_type": "execute_result",
          "data": {
            "text/plain": [
              "'leggings.pdf'"
            ],
            "application/vnd.google.colaboratory.intrinsic+json": {
              "type": "string"
            }
          },
          "metadata": {},
          "execution_count": 74
        }
      ]
    },
    {
      "cell_type": "code",
      "source": [
        "graph"
      ],
      "metadata": {
        "colab": {
          "base_uri": "https://localhost:8080/",
          "height": 599
        },
        "id": "T1e7L59Bz73-",
        "outputId": "463c28c1-403c-420d-d3f4-3a0737d0c9c4"
      },
      "execution_count": null,
      "outputs": [
        {
          "output_type": "execute_result",
          "data": {
            "text/plain": [
              "<graphviz.files.Source at 0x7f15416d7b90>"
            ],
            "image/svg+xml": "<?xml version=\"1.0\" encoding=\"UTF-8\" standalone=\"no\"?>\n<!DOCTYPE svg PUBLIC \"-//W3C//DTD SVG 1.1//EN\"\n \"http://www.w3.org/Graphics/SVG/1.1/DTD/svg11.dtd\">\n<!-- Generated by graphviz version 2.40.1 (20161225.0304)\n -->\n<!-- Title: Tree Pages: 1 -->\n<svg width=\"1036pt\" height=\"433pt\"\n viewBox=\"0.00 0.00 1035.50 433.00\" xmlns=\"http://www.w3.org/2000/svg\" xmlns:xlink=\"http://www.w3.org/1999/xlink\">\n<g id=\"graph0\" class=\"graph\" transform=\"scale(1 1) rotate(0) translate(4 429)\">\n<title>Tree</title>\n<polygon fill=\"#ffffff\" stroke=\"transparent\" points=\"-4,4 -4,-429 1031.5,-429 1031.5,4 -4,4\"/>\n<!-- 0 -->\n<g id=\"node1\" class=\"node\">\n<title>0</title>\n<path fill=\"#a9d5f4\" stroke=\"#000000\" d=\"M607,-425C607,-425 475,-425 475,-425 469,-425 463,-419 463,-413 463,-413 463,-354 463,-354 463,-348 469,-342 475,-342 475,-342 607,-342 607,-342 613,-342 619,-348 619,-354 619,-354 619,-413 619,-413 619,-419 613,-425 607,-425\"/>\n<text text-anchor=\"start\" x=\"471\" y=\"-409.8\" font-family=\"Helvetica,sans-Serif\" font-size=\"14.00\" fill=\"#000000\">all/any Spandex ≤ 0.5</text>\n<text text-anchor=\"start\" x=\"503\" y=\"-394.8\" font-family=\"Helvetica,sans-Serif\" font-size=\"14.00\" fill=\"#000000\">gini = 0.462</text>\n<text text-anchor=\"start\" x=\"489\" y=\"-379.8\" font-family=\"Helvetica,sans-Serif\" font-size=\"14.00\" fill=\"#000000\">samples = 3136</text>\n<text text-anchor=\"start\" x=\"474.5\" y=\"-364.8\" font-family=\"Helvetica,sans-Serif\" font-size=\"14.00\" fill=\"#000000\">value = [1135, 2001]</text>\n<text text-anchor=\"start\" x=\"512\" y=\"-349.8\" font-family=\"Helvetica,sans-Serif\" font-size=\"14.00\" fill=\"#000000\">class = 1</text>\n</g>\n<!-- 1 -->\n<g id=\"node2\" class=\"node\">\n<title>1</title>\n<path fill=\"#3a9ee5\" stroke=\"#000000\" d=\"M517.5,-306C517.5,-306 324.5,-306 324.5,-306 318.5,-306 312.5,-300 312.5,-294 312.5,-294 312.5,-235 312.5,-235 312.5,-229 318.5,-223 324.5,-223 324.5,-223 517.5,-223 517.5,-223 523.5,-223 529.5,-229 529.5,-235 529.5,-235 529.5,-294 529.5,-294 529.5,-300 523.5,-306 517.5,-306\"/>\n<text text-anchor=\"start\" x=\"320.5\" y=\"-290.8\" font-family=\"Helvetica,sans-Serif\" font-size=\"14.00\" fill=\"#000000\">Recycled Polyester / PET ≤ 0.5</text>\n<text text-anchor=\"start\" x=\"383\" y=\"-275.8\" font-family=\"Helvetica,sans-Serif\" font-size=\"14.00\" fill=\"#000000\">gini = 0.014</text>\n<text text-anchor=\"start\" x=\"369\" y=\"-260.8\" font-family=\"Helvetica,sans-Serif\" font-size=\"14.00\" fill=\"#000000\">samples = 1791</text>\n<text text-anchor=\"start\" x=\"363\" y=\"-245.8\" font-family=\"Helvetica,sans-Serif\" font-size=\"14.00\" fill=\"#000000\">value = [13, 1778]</text>\n<text text-anchor=\"start\" x=\"392\" y=\"-230.8\" font-family=\"Helvetica,sans-Serif\" font-size=\"14.00\" fill=\"#000000\">class = 1</text>\n</g>\n<!-- 0&#45;&gt;1 -->\n<g id=\"edge1\" class=\"edge\">\n<title>0&#45;&gt;1</title>\n<path fill=\"none\" stroke=\"#000000\" d=\"M499.0298,-341.8796C489.7662,-332.6931 479.8704,-322.8798 470.3448,-313.4336\"/>\n<polygon fill=\"#000000\" stroke=\"#000000\" points=\"472.7144,-310.8543 463.1493,-306.2981 467.7854,-315.8247 472.7144,-310.8543\"/>\n<text text-anchor=\"middle\" x=\"463.2539\" y=\"-327.5979\" font-family=\"Helvetica,sans-Serif\" font-size=\"14.00\" fill=\"#000000\">True</text>\n</g>\n<!-- 8 -->\n<g id=\"node9\" class=\"node\">\n<title>8</title>\n<path fill=\"#ea9a60\" stroke=\"#000000\" d=\"M695,-306C695,-306 579,-306 579,-306 573,-306 567,-300 567,-294 567,-294 567,-235 567,-235 567,-229 573,-223 579,-223 579,-223 695,-223 695,-223 701,-223 707,-229 707,-235 707,-235 707,-294 707,-294 707,-300 701,-306 695,-306\"/>\n<text text-anchor=\"start\" x=\"590.5\" y=\"-290.8\" font-family=\"Helvetica,sans-Serif\" font-size=\"14.00\" fill=\"#000000\">環保訴求 ≤ 0.5</text>\n<text text-anchor=\"start\" x=\"599\" y=\"-275.8\" font-family=\"Helvetica,sans-Serif\" font-size=\"14.00\" fill=\"#000000\">gini = 0.277</text>\n<text text-anchor=\"start\" x=\"585\" y=\"-260.8\" font-family=\"Helvetica,sans-Serif\" font-size=\"14.00\" fill=\"#000000\">samples = 1345</text>\n<text text-anchor=\"start\" x=\"575\" y=\"-245.8\" font-family=\"Helvetica,sans-Serif\" font-size=\"14.00\" fill=\"#000000\">value = [1122, 223]</text>\n<text text-anchor=\"start\" x=\"608\" y=\"-230.8\" font-family=\"Helvetica,sans-Serif\" font-size=\"14.00\" fill=\"#000000\">class = 0</text>\n</g>\n<!-- 0&#45;&gt;8 -->\n<g id=\"edge8\" class=\"edge\">\n<title>0&#45;&gt;8</title>\n<path fill=\"none\" stroke=\"#000000\" d=\"M574.5761,-341.8796C581.7691,-332.9633 589.4384,-323.4565 596.851,-314.268\"/>\n<polygon fill=\"#000000\" stroke=\"#000000\" points=\"599.7258,-316.2788 603.2805,-306.2981 594.2776,-311.8836 599.7258,-316.2788\"/>\n<text text-anchor=\"middle\" x=\"605.9398\" y=\"-327.4562\" font-family=\"Helvetica,sans-Serif\" font-size=\"14.00\" fill=\"#000000\">False</text>\n</g>\n<!-- 2 -->\n<g id=\"node3\" class=\"node\">\n<title>2</title>\n<path fill=\"#3a9de5\" stroke=\"#000000\" d=\"M331.5,-187C331.5,-187 52.5,-187 52.5,-187 46.5,-187 40.5,-181 40.5,-175 40.5,-175 40.5,-116 40.5,-116 40.5,-110 46.5,-104 52.5,-104 52.5,-104 331.5,-104 331.5,-104 337.5,-104 343.5,-110 343.5,-116 343.5,-116 343.5,-175 343.5,-175 343.5,-181 337.5,-187 331.5,-187\"/>\n<text text-anchor=\"start\" x=\"48.5\" y=\"-171.8\" font-family=\"Helvetica,sans-Serif\" font-size=\"14.00\" fill=\"#000000\">RATED UPF 50+ (Excellent Protection) ≤ 0.5</text>\n<text text-anchor=\"start\" x=\"154\" y=\"-156.8\" font-family=\"Helvetica,sans-Serif\" font-size=\"14.00\" fill=\"#000000\">gini = 0.009</text>\n<text text-anchor=\"start\" x=\"140\" y=\"-141.8\" font-family=\"Helvetica,sans-Serif\" font-size=\"14.00\" fill=\"#000000\">samples = 1785</text>\n<text text-anchor=\"start\" x=\"138\" y=\"-126.8\" font-family=\"Helvetica,sans-Serif\" font-size=\"14.00\" fill=\"#000000\">value = [8, 1777]</text>\n<text text-anchor=\"start\" x=\"163\" y=\"-111.8\" font-family=\"Helvetica,sans-Serif\" font-size=\"14.00\" fill=\"#000000\">class = 1</text>\n</g>\n<!-- 1&#45;&gt;2 -->\n<g id=\"edge2\" class=\"edge\">\n<title>1&#45;&gt;2</title>\n<path fill=\"none\" stroke=\"#000000\" d=\"M340.9069,-222.8796C321.5571,-212.8244 300.7621,-202.0183 281.0301,-191.7645\"/>\n<polygon fill=\"#000000\" stroke=\"#000000\" points=\"282.5352,-188.6024 272.0479,-187.0969 279.3074,-194.8138 282.5352,-188.6024\"/>\n</g>\n<!-- 5 -->\n<g id=\"node6\" class=\"node\">\n<title>5</title>\n<path fill=\"#ea9a61\" stroke=\"#000000\" d=\"M463.5,-187C463.5,-187 378.5,-187 378.5,-187 372.5,-187 366.5,-181 366.5,-175 366.5,-175 366.5,-116 366.5,-116 366.5,-110 372.5,-104 378.5,-104 378.5,-104 463.5,-104 463.5,-104 469.5,-104 475.5,-110 475.5,-116 475.5,-116 475.5,-175 475.5,-175 475.5,-181 469.5,-187 463.5,-187\"/>\n<text text-anchor=\"start\" x=\"374.5\" y=\"-171.8\" font-family=\"Helvetica,sans-Serif\" font-size=\"14.00\" fill=\"#000000\">涼爽透氣 ≤ 0.5</text>\n<text text-anchor=\"start\" x=\"383\" y=\"-156.8\" font-family=\"Helvetica,sans-Serif\" font-size=\"14.00\" fill=\"#000000\">gini = 0.278</text>\n<text text-anchor=\"start\" x=\"381.5\" y=\"-141.8\" font-family=\"Helvetica,sans-Serif\" font-size=\"14.00\" fill=\"#000000\">samples = 6</text>\n<text text-anchor=\"start\" x=\"379.5\" y=\"-126.8\" font-family=\"Helvetica,sans-Serif\" font-size=\"14.00\" fill=\"#000000\">value = [5, 1]</text>\n<text text-anchor=\"start\" x=\"392\" y=\"-111.8\" font-family=\"Helvetica,sans-Serif\" font-size=\"14.00\" fill=\"#000000\">class = 0</text>\n</g>\n<!-- 1&#45;&gt;5 -->\n<g id=\"edge5\" class=\"edge\">\n<title>1&#45;&gt;5</title>\n<path fill=\"none\" stroke=\"#000000\" d=\"M421,-222.8796C421,-214.6838 421,-205.9891 421,-197.5013\"/>\n<polygon fill=\"#000000\" stroke=\"#000000\" points=\"424.5001,-197.298 421,-187.2981 417.5001,-197.2981 424.5001,-197.298\"/>\n</g>\n<!-- 3 -->\n<g id=\"node4\" class=\"node\">\n<title>3</title>\n<path fill=\"#3a9de5\" stroke=\"#000000\" d=\"M112,-68C112,-68 12,-68 12,-68 6,-68 0,-62 0,-56 0,-56 0,-12 0,-12 0,-6 6,0 12,0 12,0 112,0 112,0 118,0 124,-6 124,-12 124,-12 124,-56 124,-56 124,-62 118,-68 112,-68\"/>\n<text text-anchor=\"start\" x=\"24\" y=\"-52.8\" font-family=\"Helvetica,sans-Serif\" font-size=\"14.00\" fill=\"#000000\">gini = 0.007</text>\n<text text-anchor=\"start\" x=\"10\" y=\"-37.8\" font-family=\"Helvetica,sans-Serif\" font-size=\"14.00\" fill=\"#000000\">samples = 1783</text>\n<text text-anchor=\"start\" x=\"8\" y=\"-22.8\" font-family=\"Helvetica,sans-Serif\" font-size=\"14.00\" fill=\"#000000\">value = [6, 1777]</text>\n<text text-anchor=\"start\" x=\"33\" y=\"-7.8\" font-family=\"Helvetica,sans-Serif\" font-size=\"14.00\" fill=\"#000000\">class = 1</text>\n</g>\n<!-- 2&#45;&gt;3 -->\n<g id=\"edge3\" class=\"edge\">\n<title>2&#45;&gt;3</title>\n<path fill=\"none\" stroke=\"#000000\" d=\"M143.5928,-103.9815C132.5558,-94.5151 120.8347,-84.462 109.8223,-75.0168\"/>\n<polygon fill=\"#000000\" stroke=\"#000000\" points=\"111.8178,-72.1173 101.9487,-68.2637 107.2606,-77.4307 111.8178,-72.1173\"/>\n</g>\n<!-- 4 -->\n<g id=\"node5\" class=\"node\">\n<title>4</title>\n<path fill=\"#e58139\" stroke=\"#000000\" d=\"M229.5,-68C229.5,-68 154.5,-68 154.5,-68 148.5,-68 142.5,-62 142.5,-56 142.5,-56 142.5,-12 142.5,-12 142.5,-6 148.5,0 154.5,0 154.5,0 229.5,0 229.5,0 235.5,0 241.5,-6 241.5,-12 241.5,-12 241.5,-56 241.5,-56 241.5,-62 235.5,-68 229.5,-68\"/>\n<text text-anchor=\"start\" x=\"162.5\" y=\"-52.8\" font-family=\"Helvetica,sans-Serif\" font-size=\"14.00\" fill=\"#000000\">gini = 0.0</text>\n<text text-anchor=\"start\" x=\"152.5\" y=\"-37.8\" font-family=\"Helvetica,sans-Serif\" font-size=\"14.00\" fill=\"#000000\">samples = 2</text>\n<text text-anchor=\"start\" x=\"150.5\" y=\"-22.8\" font-family=\"Helvetica,sans-Serif\" font-size=\"14.00\" fill=\"#000000\">value = [2, 0]</text>\n<text text-anchor=\"start\" x=\"163\" y=\"-7.8\" font-family=\"Helvetica,sans-Serif\" font-size=\"14.00\" fill=\"#000000\">class = 0</text>\n</g>\n<!-- 2&#45;&gt;4 -->\n<g id=\"edge4\" class=\"edge\">\n<title>2&#45;&gt;4</title>\n<path fill=\"none\" stroke=\"#000000\" d=\"M192,-103.9815C192,-95.618 192,-86.7965 192,-78.3409\"/>\n<polygon fill=\"#000000\" stroke=\"#000000\" points=\"195.5001,-78.2636 192,-68.2637 188.5001,-78.2637 195.5001,-78.2636\"/>\n</g>\n<!-- 6 -->\n<g id=\"node7\" class=\"node\">\n<title>6</title>\n<path fill=\"#f2c09c\" stroke=\"#000000\" d=\"M346.5,-68C346.5,-68 271.5,-68 271.5,-68 265.5,-68 259.5,-62 259.5,-56 259.5,-56 259.5,-12 259.5,-12 259.5,-6 265.5,0 271.5,0 271.5,0 346.5,0 346.5,0 352.5,0 358.5,-6 358.5,-12 358.5,-12 358.5,-56 358.5,-56 358.5,-62 352.5,-68 346.5,-68\"/>\n<text text-anchor=\"start\" x=\"271\" y=\"-52.8\" font-family=\"Helvetica,sans-Serif\" font-size=\"14.00\" fill=\"#000000\">gini = 0.444</text>\n<text text-anchor=\"start\" x=\"269.5\" y=\"-37.8\" font-family=\"Helvetica,sans-Serif\" font-size=\"14.00\" fill=\"#000000\">samples = 3</text>\n<text text-anchor=\"start\" x=\"267.5\" y=\"-22.8\" font-family=\"Helvetica,sans-Serif\" font-size=\"14.00\" fill=\"#000000\">value = [2, 1]</text>\n<text text-anchor=\"start\" x=\"280\" y=\"-7.8\" font-family=\"Helvetica,sans-Serif\" font-size=\"14.00\" fill=\"#000000\">class = 0</text>\n</g>\n<!-- 5&#45;&gt;6 -->\n<g id=\"edge6\" class=\"edge\">\n<title>5&#45;&gt;6</title>\n<path fill=\"none\" stroke=\"#000000\" d=\"M379.2953,-103.9815C369.9711,-94.6989 360.0803,-84.8522 350.7541,-75.5677\"/>\n<polygon fill=\"#000000\" stroke=\"#000000\" points=\"352.9736,-72.8385 343.4173,-68.2637 348.0349,-77.7993 352.9736,-72.8385\"/>\n</g>\n<!-- 7 -->\n<g id=\"node8\" class=\"node\">\n<title>7</title>\n<path fill=\"#e58139\" stroke=\"#000000\" d=\"M463.5,-68C463.5,-68 388.5,-68 388.5,-68 382.5,-68 376.5,-62 376.5,-56 376.5,-56 376.5,-12 376.5,-12 376.5,-6 382.5,0 388.5,0 388.5,0 463.5,0 463.5,0 469.5,0 475.5,-6 475.5,-12 475.5,-12 475.5,-56 475.5,-56 475.5,-62 469.5,-68 463.5,-68\"/>\n<text text-anchor=\"start\" x=\"396.5\" y=\"-52.8\" font-family=\"Helvetica,sans-Serif\" font-size=\"14.00\" fill=\"#000000\">gini = 0.0</text>\n<text text-anchor=\"start\" x=\"386.5\" y=\"-37.8\" font-family=\"Helvetica,sans-Serif\" font-size=\"14.00\" fill=\"#000000\">samples = 3</text>\n<text text-anchor=\"start\" x=\"384.5\" y=\"-22.8\" font-family=\"Helvetica,sans-Serif\" font-size=\"14.00\" fill=\"#000000\">value = [3, 0]</text>\n<text text-anchor=\"start\" x=\"397\" y=\"-7.8\" font-family=\"Helvetica,sans-Serif\" font-size=\"14.00\" fill=\"#000000\">class = 0</text>\n</g>\n<!-- 5&#45;&gt;7 -->\n<g id=\"edge7\" class=\"edge\">\n<title>5&#45;&gt;7</title>\n<path fill=\"none\" stroke=\"#000000\" d=\"M422.8618,-103.9815C423.2369,-95.618 423.6324,-86.7965 424.0116,-78.3409\"/>\n<polygon fill=\"#000000\" stroke=\"#000000\" points=\"427.5119,-78.4105 424.4635,-68.2637 420.519,-78.0968 427.5119,-78.4105\"/>\n</g>\n<!-- 9 -->\n<g id=\"node10\" class=\"node\">\n<title>9</title>\n<path fill=\"#eead7e\" stroke=\"#000000\" d=\"M737,-187C737,-187 537,-187 537,-187 531,-187 525,-181 525,-175 525,-175 525,-116 525,-116 525,-110 531,-104 537,-104 537,-104 737,-104 737,-104 743,-104 749,-110 749,-116 749,-116 749,-175 749,-175 749,-181 743,-187 737,-187\"/>\n<text text-anchor=\"start\" x=\"533\" y=\"-171.8\" font-family=\"Helvetica,sans-Serif\" font-size=\"14.00\" fill=\"#000000\">Polyamide(Nylon) Blended ≤ 0.5</text>\n<text text-anchor=\"start\" x=\"599\" y=\"-156.8\" font-family=\"Helvetica,sans-Serif\" font-size=\"14.00\" fill=\"#000000\">gini = 0.383</text>\n<text text-anchor=\"start\" x=\"589\" y=\"-141.8\" font-family=\"Helvetica,sans-Serif\" font-size=\"14.00\" fill=\"#000000\">samples = 849</text>\n<text text-anchor=\"start\" x=\"579\" y=\"-126.8\" font-family=\"Helvetica,sans-Serif\" font-size=\"14.00\" fill=\"#000000\">value = [630, 219]</text>\n<text text-anchor=\"start\" x=\"608\" y=\"-111.8\" font-family=\"Helvetica,sans-Serif\" font-size=\"14.00\" fill=\"#000000\">class = 0</text>\n</g>\n<!-- 8&#45;&gt;9 -->\n<g id=\"edge9\" class=\"edge\">\n<title>8&#45;&gt;9</title>\n<path fill=\"none\" stroke=\"#000000\" d=\"M637,-222.8796C637,-214.6838 637,-205.9891 637,-197.5013\"/>\n<polygon fill=\"#000000\" stroke=\"#000000\" points=\"640.5001,-197.298 637,-187.2981 633.5001,-197.2981 640.5001,-197.298\"/>\n</g>\n<!-- 12 -->\n<g id=\"node13\" class=\"node\">\n<title>12</title>\n<path fill=\"#e5823b\" stroke=\"#000000\" d=\"M890,-187C890,-187 798,-187 798,-187 792,-187 786,-181 786,-175 786,-175 786,-116 786,-116 786,-110 792,-104 798,-104 798,-104 890,-104 890,-104 896,-104 902,-110 902,-116 902,-116 902,-175 902,-175 902,-181 896,-187 890,-187\"/>\n<text text-anchor=\"start\" x=\"797.5\" y=\"-171.8\" font-family=\"Helvetica,sans-Serif\" font-size=\"14.00\" fill=\"#000000\">抗紫外線 ≤ 0.5</text>\n<text text-anchor=\"start\" x=\"806\" y=\"-156.8\" font-family=\"Helvetica,sans-Serif\" font-size=\"14.00\" fill=\"#000000\">gini = 0.016</text>\n<text text-anchor=\"start\" x=\"796\" y=\"-141.8\" font-family=\"Helvetica,sans-Serif\" font-size=\"14.00\" fill=\"#000000\">samples = 496</text>\n<text text-anchor=\"start\" x=\"794\" y=\"-126.8\" font-family=\"Helvetica,sans-Serif\" font-size=\"14.00\" fill=\"#000000\">value = [492, 4]</text>\n<text text-anchor=\"start\" x=\"815\" y=\"-111.8\" font-family=\"Helvetica,sans-Serif\" font-size=\"14.00\" fill=\"#000000\">class = 0</text>\n</g>\n<!-- 8&#45;&gt;12 -->\n<g id=\"edge12\" class=\"edge\">\n<title>8&#45;&gt;12</title>\n<path fill=\"none\" stroke=\"#000000\" d=\"M707.0808,-224.212C729.6535,-211.2354 754.602,-196.893 776.9509,-184.0451\"/>\n<polygon fill=\"#000000\" stroke=\"#000000\" points=\"778.7768,-187.0327 785.7019,-179.0144 775.288,-180.964 778.7768,-187.0327\"/>\n</g>\n<!-- 10 -->\n<g id=\"node11\" class=\"node\">\n<title>10</title>\n<path fill=\"#e5f2fc\" stroke=\"#000000\" d=\"M614,-68C614,-68 506,-68 506,-68 500,-68 494,-62 494,-56 494,-56 494,-12 494,-12 494,-6 500,0 506,0 506,0 614,0 614,0 620,0 626,-6 626,-12 626,-12 626,-56 626,-56 626,-62 620,-68 614,-68\"/>\n<text text-anchor=\"start\" x=\"522\" y=\"-52.8\" font-family=\"Helvetica,sans-Serif\" font-size=\"14.00\" fill=\"#000000\">gini = 0.497</text>\n<text text-anchor=\"start\" x=\"512\" y=\"-37.8\" font-family=\"Helvetica,sans-Serif\" font-size=\"14.00\" fill=\"#000000\">samples = 295</text>\n<text text-anchor=\"start\" x=\"502\" y=\"-22.8\" font-family=\"Helvetica,sans-Serif\" font-size=\"14.00\" fill=\"#000000\">value = [137, 158]</text>\n<text text-anchor=\"start\" x=\"531\" y=\"-7.8\" font-family=\"Helvetica,sans-Serif\" font-size=\"14.00\" fill=\"#000000\">class = 1</text>\n</g>\n<!-- 9&#45;&gt;10 -->\n<g id=\"edge10\" class=\"edge\">\n<title>9&#45;&gt;10</title>\n<path fill=\"none\" stroke=\"#000000\" d=\"M608.328,-103.9815C602.1715,-95.0666 595.6557,-85.6313 589.4695,-76.6734\"/>\n<polygon fill=\"#000000\" stroke=\"#000000\" points=\"592.2245,-74.5034 583.6619,-68.2637 586.4645,-78.4811 592.2245,-74.5034\"/>\n</g>\n<!-- 11 -->\n<g id=\"node12\" class=\"node\">\n<title>11</title>\n<path fill=\"#e89151\" stroke=\"#000000\" d=\"M756,-68C756,-68 656,-68 656,-68 650,-68 644,-62 644,-56 644,-56 644,-12 644,-12 644,-6 650,0 656,0 656,0 756,0 756,0 762,0 768,-6 768,-12 768,-12 768,-56 768,-56 768,-62 762,-68 756,-68\"/>\n<text text-anchor=\"start\" x=\"668\" y=\"-52.8\" font-family=\"Helvetica,sans-Serif\" font-size=\"14.00\" fill=\"#000000\">gini = 0.196</text>\n<text text-anchor=\"start\" x=\"658\" y=\"-37.8\" font-family=\"Helvetica,sans-Serif\" font-size=\"14.00\" fill=\"#000000\">samples = 554</text>\n<text text-anchor=\"start\" x=\"652\" y=\"-22.8\" font-family=\"Helvetica,sans-Serif\" font-size=\"14.00\" fill=\"#000000\">value = [493, 61]</text>\n<text text-anchor=\"start\" x=\"677\" y=\"-7.8\" font-family=\"Helvetica,sans-Serif\" font-size=\"14.00\" fill=\"#000000\">class = 0</text>\n</g>\n<!-- 9&#45;&gt;11 -->\n<g id=\"edge11\" class=\"edge\">\n<title>9&#45;&gt;11</title>\n<path fill=\"none\" stroke=\"#000000\" d=\"M662.6931,-103.9815C668.1531,-95.1585 673.9284,-85.8258 679.4207,-76.9506\"/>\n<polygon fill=\"#000000\" stroke=\"#000000\" points=\"682.5104,-78.609 684.7965,-68.2637 676.558,-74.9254 682.5104,-78.609\"/>\n</g>\n<!-- 13 -->\n<g id=\"node14\" class=\"node\">\n<title>13</title>\n<path fill=\"#e5823a\" stroke=\"#000000\" d=\"M890,-68C890,-68 798,-68 798,-68 792,-68 786,-62 786,-56 786,-56 786,-12 786,-12 786,-6 792,0 798,0 798,0 890,0 890,0 896,0 902,-6 902,-12 902,-12 902,-56 902,-56 902,-62 896,-68 890,-68\"/>\n<text text-anchor=\"start\" x=\"806\" y=\"-52.8\" font-family=\"Helvetica,sans-Serif\" font-size=\"14.00\" fill=\"#000000\">gini = 0.009</text>\n<text text-anchor=\"start\" x=\"796\" y=\"-37.8\" font-family=\"Helvetica,sans-Serif\" font-size=\"14.00\" fill=\"#000000\">samples = 461</text>\n<text text-anchor=\"start\" x=\"794\" y=\"-22.8\" font-family=\"Helvetica,sans-Serif\" font-size=\"14.00\" fill=\"#000000\">value = [459, 2]</text>\n<text text-anchor=\"start\" x=\"815\" y=\"-7.8\" font-family=\"Helvetica,sans-Serif\" font-size=\"14.00\" fill=\"#000000\">class = 0</text>\n</g>\n<!-- 12&#45;&gt;13 -->\n<g id=\"edge13\" class=\"edge\">\n<title>12&#45;&gt;13</title>\n<path fill=\"none\" stroke=\"#000000\" d=\"M844,-103.9815C844,-95.618 844,-86.7965 844,-78.3409\"/>\n<polygon fill=\"#000000\" stroke=\"#000000\" points=\"847.5001,-78.2636 844,-68.2637 840.5001,-78.2637 847.5001,-78.2636\"/>\n</g>\n<!-- 14 -->\n<g id=\"node15\" class=\"node\">\n<title>14</title>\n<path fill=\"#e78945\" stroke=\"#000000\" d=\"M1015.5,-68C1015.5,-68 932.5,-68 932.5,-68 926.5,-68 920.5,-62 920.5,-56 920.5,-56 920.5,-12 920.5,-12 920.5,-6 926.5,0 932.5,0 932.5,0 1015.5,0 1015.5,0 1021.5,0 1027.5,-6 1027.5,-12 1027.5,-12 1027.5,-56 1027.5,-56 1027.5,-62 1021.5,-68 1015.5,-68\"/>\n<text text-anchor=\"start\" x=\"936\" y=\"-52.8\" font-family=\"Helvetica,sans-Serif\" font-size=\"14.00\" fill=\"#000000\">gini = 0.108</text>\n<text text-anchor=\"start\" x=\"930\" y=\"-37.8\" font-family=\"Helvetica,sans-Serif\" font-size=\"14.00\" fill=\"#000000\">samples = 35</text>\n<text text-anchor=\"start\" x=\"928.5\" y=\"-22.8\" font-family=\"Helvetica,sans-Serif\" font-size=\"14.00\" fill=\"#000000\">value = [33, 2]</text>\n<text text-anchor=\"start\" x=\"945\" y=\"-7.8\" font-family=\"Helvetica,sans-Serif\" font-size=\"14.00\" fill=\"#000000\">class = 0</text>\n</g>\n<!-- 12&#45;&gt;14 -->\n<g id=\"edge14\" class=\"edge\">\n<title>12&#45;&gt;14</title>\n<path fill=\"none\" stroke=\"#000000\" d=\"M892.4072,-103.9815C903.4442,-94.5151 915.1653,-84.462 926.1777,-75.0168\"/>\n<polygon fill=\"#000000\" stroke=\"#000000\" points=\"928.7394,-77.4307 934.0513,-68.2637 924.1822,-72.1173 928.7394,-77.4307\"/>\n</g>\n</g>\n</svg>\n"
          },
          "metadata": {},
          "execution_count": 75
        }
      ]
    },
    {
      "cell_type": "code",
      "source": [
        "# Model Results\n"
      ],
      "metadata": {
        "id": "CpIxDVjO8Mih"
      },
      "execution_count": null,
      "outputs": []
    },
    {
      "cell_type": "code",
      "source": [
        ""
      ],
      "metadata": {
        "id": "ewMStzBQ4jXu"
      },
      "execution_count": null,
      "outputs": []
    }
  ]
}